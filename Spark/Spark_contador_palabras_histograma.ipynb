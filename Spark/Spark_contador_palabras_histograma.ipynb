{
 "cells": [
  {
   "cell_type": "code",
   "execution_count": 1,
   "metadata": {
    "collapsed": false,
    "deletable": true,
    "editable": true
   },
   "outputs": [
    {
     "data": {
      "text/plain": [
       "<pyspark.context.SparkContext at 0x7ff789389e50>"
      ]
     },
     "execution_count": 1,
     "metadata": {},
     "output_type": "execute_result"
    }
   ],
   "source": [
    "#Obtenemos SparkContext que haya cargado correctamente\n",
    "sc"
   ]
  },
  {
   "cell_type": "code",
   "execution_count": 2,
   "metadata": {
    "collapsed": false,
    "deletable": true,
    "editable": true
   },
   "outputs": [
    {
     "data": {
      "text/plain": [
       "'Apache Spark\\n-------------\\nApache Spark is a cluster computing platform designed to be fast and general purpose.\\nOn the speed side, Spark extends the popular MapReduce model to efficiently support more types of computations, including interactive queries and stream processing. Speed is important in processing large datasets, as it means the difference between exploring data interactively and waiting minutes or hours. One of the main features Spark offers for speed is the ability to run computati'"
      ]
     },
     "execution_count": 2,
     "metadata": {},
     "output_type": "execute_result"
    }
   ],
   "source": [
    "#leer fichero\n",
    "txt = 'about_spark.txt'\n",
    "open(txt, 'r').read()[:500]"
   ]
  },
  {
   "cell_type": "code",
   "execution_count": 3,
   "metadata": {
    "collapsed": false,
    "deletable": true,
    "editable": true
   },
   "outputs": [
    {
     "data": {
      "text/plain": [
       "about_spark.txt MapPartitionsRDD[1] at textFile at NativeMethodAccessorImpl.java:0"
      ]
     },
     "execution_count": 3,
     "metadata": {},
     "output_type": "execute_result"
    }
   ],
   "source": [
    "#obtener lineas del fichero\n",
    "lines = sc.textFile(txt).cache()\n",
    "lines"
   ]
  },
  {
   "cell_type": "code",
   "execution_count": 4,
   "metadata": {
    "collapsed": false,
    "deletable": true,
    "editable": true
   },
   "outputs": [
    {
     "data": {
      "text/plain": [
       "6"
      ]
     },
     "execution_count": 4,
     "metadata": {},
     "output_type": "execute_result"
    }
   ],
   "source": [
    "#obtener número de líneas\n",
    "lines.count()"
   ]
  },
  {
   "cell_type": "code",
   "execution_count": 5,
   "metadata": {
    "collapsed": false,
    "deletable": true,
    "editable": true
   },
   "outputs": [
    {
     "data": {
      "text/plain": [
       "206"
      ]
     },
     "execution_count": 5,
     "metadata": {},
     "output_type": "execute_result"
    }
   ],
   "source": [
    "#obener palabras a través del separador cadena vacía\n",
    "lines.flatMap(lambda x: x.split(' ')).count()"
   ]
  },
  {
   "cell_type": "code",
   "execution_count": 6,
   "metadata": {
    "collapsed": false,
    "deletable": true,
    "editable": true
   },
   "outputs": [
    {
     "data": {
      "text/plain": [
       "[(u'Apache', 1),\n",
       " (u'Spark', 1),\n",
       " (u'-------------', 1),\n",
       " (u'Apache', 1),\n",
       " (u'Spark', 1),\n",
       " (u'is', 1),\n",
       " (u'a', 1),\n",
       " (u'cluster', 1),\n",
       " (u'computing', 1),\n",
       " (u'platform', 1),\n",
       " (u'designed', 1),\n",
       " (u'to', 1),\n",
       " (u'be', 1),\n",
       " (u'fast', 1),\n",
       " (u'and', 1),\n",
       " (u'general', 1),\n",
       " (u'purpose.', 1),\n",
       " (u'On', 1),\n",
       " (u'the', 1),\n",
       " (u'speed', 1)]"
      ]
     },
     "execution_count": 6,
     "metadata": {},
     "output_type": "execute_result"
    }
   ],
   "source": [
    "#por cada palabra encontrada se le asigna un 1\n",
    "words_count = lines.flatMap(lambda x: x.split(' ')).map(lambda x: (x, 1)).take(20)\n",
    "words_count"
   ]
  },
  {
   "cell_type": "markdown",
   "metadata": {
    "deletable": true,
    "editable": true
   },
   "source": [
    "### Palabras más frecuentes"
   ]
  },
  {
   "cell_type": "code",
   "execution_count": 7,
   "metadata": {
    "collapsed": false,
    "deletable": true,
    "editable": true
   },
   "outputs": [
    {
     "data": {
      "text/plain": [
       "[(u'the', 9),\n",
       " (u'and', 8),\n",
       " (u'Spark', 8),\n",
       " (u'is', 7),\n",
       " (u'in', 6),\n",
       " (u'to', 6),\n",
       " (u'of', 4),\n",
       " (u'including', 3),\n",
       " (u'data', 3),\n",
       " (u'it', 3),\n",
       " (u'designed', 3),\n",
       " (u'side,', 2),\n",
       " (u'speed', 2),\n",
       " (u'Apache', 2),\n",
       " (u'run', 2),\n",
       " (u'a', 2),\n",
       " (u'for', 2),\n",
       " (u'Hadoop', 2),\n",
       " (u'In', 2),\n",
       " (u'more', 2),\n",
       " (u'On', 2),\n",
       " (u'processing', 2),\n",
       " (u'tools.', 2),\n",
       " (u'separate', 2),\n",
       " (u'be', 2),\n",
       " (u'also', 2),\n",
       " (u'MapReduce', 2),\n",
       " (u'workloads', 2),\n",
       " (u'interactive', 2),\n",
       " (u'closely', 1),\n",
       " (u'generality', 1),\n",
       " (u'previously', 1),\n",
       " (u'streaming.', 1),\n",
       " (u'built-in', 1),\n",
       " (u'as', 1),\n",
       " (u'same', 1),\n",
       " (u'-------------', 1),\n",
       " (u'particular,', 1),\n",
       " (u'different', 1),\n",
       " (u'datasets,', 1),\n",
       " (u'stream', 1),\n",
       " (u'processing.', 1),\n",
       " (u'efficient', 1),\n",
       " (u'with', 1),\n",
       " (u'support', 1),\n",
       " (u'distributed', 1),\n",
       " (u'systems,', 1),\n",
       " (u'fast', 1),\n",
       " (u'Scala,', 1),\n",
       " (u'access', 1),\n",
       " (u'simple', 1),\n",
       " (u'waiting', 1),\n",
       " (u'extends', 1),\n",
       " (u'types', 1),\n",
       " (u'disk.', 1),\n",
       " (u'which', 1),\n",
       " (u'combine', 1),\n",
       " (u'Data', 1),\n",
       " (u'SQL,', 1),\n",
       " (u'Speed', 1),\n",
       " (u'easy', 1),\n",
       " (u'Cassandra.', 1),\n",
       " (u'cover', 1),\n",
       " (u'but', 1),\n",
       " (u'purpose.', 1),\n",
       " (u'memory,', 1),\n",
       " (u'running', 1),\n",
       " (u'source,', 1),\n",
       " (u'burden', 1),\n",
       " (u'interactively', 1),\n",
       " (u'model', 1),\n",
       " (u'maintaining', 1),\n",
       " (u'offering', 1),\n",
       " (u'necessary', 1),\n",
       " (u'these', 1),\n",
       " (u'minutes', 1),\n",
       " (u'reduces', 1),\n",
       " (u'iterative', 1),\n",
       " (u'analysis', 1),\n",
       " (u'large', 1),\n",
       " (u'computations', 1),\n",
       " (u'range', 1),\n",
       " (u'queries,', 1),\n",
       " (u'applications,', 1),\n",
       " (u'popular', 1),\n",
       " (u'rich', 1),\n",
       " (u'makes', 1),\n",
       " (u'integrates', 1),\n",
       " (u'pipelines.', 1),\n",
       " (u'often', 1),\n",
       " (u'supporting', 1),\n",
       " (u'APIs', 1),\n",
       " (u'hours.', 1),\n",
       " (u'computations,', 1),\n",
       " (u'batch', 1),\n",
       " (u'production', 1),\n",
       " (u'computing', 1),\n",
       " (u'addition,', 1),\n",
       " (u'complex', 1),\n",
       " (u'any', 1),\n",
       " (u'features', 1),\n",
       " (u'Python,', 1),\n",
       " (u'management', 1),\n",
       " (u'Java,', 1),\n",
       " (u'that', 1),\n",
       " (u'system', 1),\n",
       " (u'algorithms,', 1),\n",
       " (u'platform', 1),\n",
       " (u'offers', 1),\n",
       " (u'wide', 1),\n",
       " (u'between', 1),\n",
       " (u'It', 1),\n",
       " (u'required', 1),\n",
       " (u'libraries.', 1),\n",
       " (u'main', 1),\n",
       " (u'By', 1),\n",
       " (u'Big', 1),\n",
       " (u'general', 1),\n",
       " (u'ability', 1),\n",
       " (u'means', 1),\n",
       " (u'highly', 1),\n",
       " (u'applications', 1),\n",
       " (u'accessible,', 1),\n",
       " (u'difference', 1),\n",
       " (u'than', 1),\n",
       " (u'efficiently', 1),\n",
       " (u'on', 1),\n",
       " (u'types,', 1),\n",
       " (u'cluster', 1),\n",
       " (u'inexpensive', 1),\n",
       " (u'One', 1),\n",
       " (u'other', 1),\n",
       " (u'important', 1),\n",
       " (u'can', 1),\n",
       " (u'queries', 1),\n",
       " (u'clusters', 1),\n",
       " (u'engine,', 1),\n",
       " (u'or', 1),\n",
       " (u'exploring', 1)]"
      ]
     },
     "execution_count": 7,
     "metadata": {},
     "output_type": "execute_result"
    }
   ],
   "source": [
    "from operator import add\n",
    "words_count = lines.flatMap(lambda x: x.split(' ')).map(lambda x: (x, 1))\n",
    "#aplicar operación reducebykey que para cada palabra sumará los 1 encontrados\n",
    "#ordenación de forma ascendente\n",
    "count_total = words_count.reduceByKey(add).sortBy(lambda x: x[1], ascending=False)\n",
    "count_total.collect()"
   ]
  },
  {
   "cell_type": "code",
   "execution_count": 8,
   "metadata": {
    "collapsed": false,
    "deletable": true,
    "editable": true
   },
   "outputs": [
    {
     "name": "stdout",
     "output_type": "stream",
     "text": [
      "the: 9\n",
      "in: 9\n",
      "and: 8\n",
      "spark: 8\n",
      "is: 7\n",
      "to: 6\n",
      "data: 4\n",
      "it: 4\n",
      "of: 4\n",
      "including: 3\n",
      "speed: 3\n",
      "processing: 3\n",
      "designed: 3\n",
      "on: 3\n",
      "computations: 2\n"
     ]
    }
   ],
   "source": [
    "import re\n",
    "\n",
    "data = sc.textFile(\"about_spark.txt\")\n",
    "palabras = (data\n",
    "            .flatMap(lambda linea: re.compile(\"\\W\").split(linea))\n",
    "            .filter(lambda palabra: palabra != '')\n",
    "            .map(lambda palabra: palabra.lower()))\n",
    "\n",
    "histograma = (palabras\n",
    "              .map(lambda palabra : (palabra,1))\n",
    "              .reduceByKey(lambda x,y: x+y))\n",
    "\n",
    "masFrecuentes = (histograma\n",
    "                 .sortBy(lambda v: -v[1]).take(15))\n",
    "\n",
    "for p in masFrecuentes:\n",
    "    print (p[0] + \": %d\" % p[1])"
   ]
  },
  {
   "cell_type": "markdown",
   "metadata": {
    "deletable": true,
    "editable": true
   },
   "source": [
    "### Contar el número de caracteres,palabras y lineas de un texto"
   ]
  },
  {
   "cell_type": "code",
   "execution_count": 9,
   "metadata": {
    "collapsed": false,
    "deletable": true,
    "editable": true
   },
   "outputs": [
    {
     "name": "stdout",
     "output_type": "stream",
     "text": [
      "{'palabras': 206, 'caracteres': 1374, 'lineas': 6}\n"
     ]
    }
   ],
   "source": [
    "def file_stadistics(line):\n",
    "    return [(\"caracteres\",len(line)),(\"palabras\",len(line.split())),(\"lineas\",1)]\n",
    "\n",
    "print(sc.textFile(\"about_spark.txt\").flatMap(file_stadistics).reduceByKey(lambda x,y:x+y).collectAsMap())"
   ]
  },
  {
   "cell_type": "markdown",
   "metadata": {
    "deletable": true,
    "editable": true
   },
   "source": [
    "### Crear histograma"
   ]
  },
  {
   "cell_type": "code",
   "execution_count": 10,
   "metadata": {
    "collapsed": false,
    "deletable": true,
    "editable": true
   },
   "outputs": [
    {
     "name": "stdout",
     "output_type": "stream",
     "text": [
      "numbero de lineas: 6\n",
      "numero de caracteres: 1374\n"
     ]
    },
    {
     "data": {
      "text/plain": [
       "[(8, u'spark'),\n",
       " (4, u'data'),\n",
       " (3, u'including'),\n",
       " (3, u'speed'),\n",
       " (3, u'processing'),\n",
       " (3, u'designed'),\n",
       " (2, u'computations'),\n",
       " (2, u'tools'),\n",
       " (2, u'types'),\n",
       " (2, u'apache'),\n",
       " (2, u'also'),\n",
       " (2, u'more'),\n",
       " (2, u'applications'),\n",
       " (2, u'separate'),\n",
       " (2, u'hadoop'),\n",
       " (2, u'mapreduce'),\n",
       " (2, u'queries'),\n",
       " (2, u'workloads'),\n",
       " (2, u'side'),\n",
       " (2, u'interactive')]"
      ]
     },
     "execution_count": 10,
     "metadata": {},
     "output_type": "execute_result"
    }
   ],
   "source": [
    "# contar lineas del fichero\n",
    "print('numbero de lineas: %s' % data.count())\n",
    "\n",
    "# contar caracteres\n",
    "chars = data.map(lambda s: len(s)).reduce(add)\n",
    "print('numero de caracteres: %s' % chars)\n",
    "\n",
    "# obtener palabras\n",
    "palabras =data.flatMap(lambda line: re.split('\\W+', line.lower().strip()))\n",
    "\n",
    "# palabras que tegan más de 3 caracteres\n",
    "palabras = palabras.filter(lambda x: len(x) > 3)\n",
    "\n",
    "# establecer contador de cada palabra\n",
    "palabras = palabras.map(lambda w: (w,1))\n",
    "\n",
    "# fase reduce \n",
    "palabras = palabras.reduceByKey(add)\n",
    "\n",
    "# crear tupla (contador, palabra) ordenados de forma descendente\n",
    "palabras = palabras.map(lambda x: (x[1], x[0])).sortByKey(False)\n",
    "\n",
    "# obtener top de 20 palabras ordenadas por frecuencia\n",
    "palabras.take(20)"
   ]
  },
  {
   "cell_type": "code",
   "execution_count": 11,
   "metadata": {
    "collapsed": false,
    "deletable": true,
    "editable": true
   },
   "outputs": [
    {
     "data": {
      "text/plain": [
       "[(8, u'spark'),\n",
       " (4, u'data'),\n",
       " (3, u'including'),\n",
       " (3, u'speed'),\n",
       " (3, u'processing'),\n",
       " (3, u'designed'),\n",
       " (2, u'computations'),\n",
       " (2, u'tools'),\n",
       " (2, u'types'),\n",
       " (2, u'apache'),\n",
       " (2, u'also'),\n",
       " (2, u'more'),\n",
       " (2, u'applications'),\n",
       " (2, u'separate'),\n",
       " (2, u'hadoop'),\n",
       " (2, u'mapreduce'),\n",
       " (2, u'queries'),\n",
       " (2, u'workloads'),\n",
       " (2, u'side'),\n",
       " (2, u'interactive')]"
      ]
     },
     "execution_count": 11,
     "metadata": {},
     "output_type": "execute_result"
    },
    {
     "data": {
      "image/png": "[encoded data removed]",
      "text/plain": [
       "<matplotlib.figure.Figure at 0x7ff786d8e610>"
      ]
     },
     "metadata": {},
     "output_type": "display_data"
    }
   ],
   "source": [
    "# crear histograma de palabras más frecuentes\n",
    "\n",
    "% matplotlib inline\n",
    "import matplotlib.pyplot as plt\n",
    "\n",
    "def histogram(words):\n",
    "    count = map(lambda x: x[1], words)\n",
    "    word = map(lambda x: x[0], words)\n",
    "    plt.barh(range(len(count)), count,color = 'grey')\n",
    "    plt.yticks(range(len(count)), word)\n",
    "\n",
    "# Change order of tuple (word, count) from (count, word) \n",
    "palabras = palabras.map(lambda x:(x[1], x[0]))\n",
    "palabras.take(25)\n",
    "\n",
    "# display histogram\n",
    "histogram(palabras.take(25))\n",
    "\n",
    "# words in one summarised statement\n",
    "palabras = sc.textFile('about_spark.txt').flatMap(lambda line: re.split('\\W+', line.lower().strip())).filter(lambda x: len(x) > 3).map(lambda w: (w,1)).reduceByKey(add).map(lambda x: (x[1], x[0])).sortByKey(False)\n",
    "palabras.take(20)"
   ]
  }
 ],
 "metadata": {
  "kernelspec": {
   "display_name": "Python 2",
   "language": "python",
   "name": "python2"
  },
  "language_info": {
   "codemirror_mode": {
    "name": "ipython",
    "version": 2
   },
   "file_extension": ".py",
   "mimetype": "text/x-python",
   "name": "python",
   "nbconvert_exporter": "python",
   "pygments_lexer": "ipython2",
   "version": "2.7.12"
  }
 },
 "nbformat": 4,
 "nbformat_minor": 2
}
