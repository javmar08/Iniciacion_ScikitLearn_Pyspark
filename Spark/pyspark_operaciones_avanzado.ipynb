{
 "cells": [
  {
   "cell_type": "code",
   "execution_count": 7,
   "metadata": {
    "collapsed": true
   },
   "outputs": [],
   "source": [
    "from pyspark import SparkContext"
   ]
  },
  {
   "cell_type": "markdown",
   "metadata": {},
   "source": [
    "### Map function"
   ]
  },
  {
   "cell_type": "code",
   "execution_count": 11,
   "metadata": {
    "collapsed": false
   },
   "outputs": [
    {
     "name": "stdout",
     "output_type": "stream",
     "text": [
      "('num elementos', 8)\n",
      "('elementos', [2, 4, 6, 8, 10, 12, 14, 16])\n",
      "('media', 9.0)\n",
      "('elementos ordenados', [2, 4, 6])\n",
      "('elementos ordenados de mayor a menor', [16, 14, 12, 10, 8])\n",
      "La suma de los elementos al cuadrado es 72\n",
      "Hay 2 elementos al cuadrado menores que 6\n"
     ]
    }
   ],
   "source": [
    "data = sc.parallelize([1,2,3,4,5,6,7,8])\n",
    "doble = data.map(lambda x : x * 2)\n",
    "print(\"num elementos\",doble.count())\n",
    "print(\"elementos\",doble.collect())\n",
    "print(\"media\",doble.mean())\n",
    "print(\"elementos ordenados\",doble.takeOrdered(3))\n",
    "print(\"elementos ordenados de mayor a menor\",doble.top(5))\n",
    "\n",
    "print (\"La suma de los elementos al cuadrado es %d\" % doble.sum())\n",
    "\n",
    "menor6 = doble.filter(lambda x : x < 6)\n",
    "print (\"Hay %d elementos al cuadrado menores que 6\" % menor6.count())"
   ]
  },
  {
   "cell_type": "markdown",
   "metadata": {},
   "source": [
    "### Sumatorio de elementos de un vector"
   ]
  },
  {
   "cell_type": "code",
   "execution_count": 1,
   "metadata": {
    "collapsed": true,
    "deletable": true,
    "editable": true
   },
   "outputs": [],
   "source": [
    "def partitionSumatorio(nums):\n",
    "    sumCount = [0, 0]\n",
    "    for num in nums:\n",
    "        sumCount[0] += num\n",
    "        sumCount[1] += 1\n",
    "    return [sumCount]\n",
    "\n",
    "\n",
    "def combinarNumeros(c1, c2):\n",
    "    return (c1[0] + c2[0], c1[1] + c2[1])\n",
    "\n",
    "\n",
    "def basicAvg(nums):\n",
    "    \"\"\"Obtener la media\"\"\"\n",
    "    sumCount = nums.mapPartitions(partitionSumatorio).reduce(combinarNumeros)\n",
    "    print(\"Sumatorio\",sumCount[0])\n",
    "    print(\"Num elementos\",sumCount[1])\n",
    "    return sumCount[0] / float(sumCount[1])"
   ]
  },
  {
   "cell_type": "code",
   "execution_count": 2,
   "metadata": {
    "collapsed": false,
    "deletable": true,
    "editable": true
   },
   "outputs": [
    {
     "name": "stdout",
     "output_type": "stream",
     "text": [
      "('Sumatorio', 15)\n",
      "('Num elementos', 5)\n"
     ]
    },
    {
     "data": {
      "text/plain": [
       "3.0"
      ]
     },
     "execution_count": 2,
     "metadata": {},
     "output_type": "execute_result"
    }
   ],
   "source": [
    "nums = sc.parallelize([1, 2, 3, 4, 5])\n",
    "avg = basicAvg(nums)\n",
    "avg"
   ]
  },
  {
   "cell_type": "markdown",
   "metadata": {},
   "source": [
    "### Agrupar elementos de un diccionario"
   ]
  },
  {
   "cell_type": "code",
   "execution_count": 9,
   "metadata": {
    "collapsed": true,
    "deletable": true,
    "editable": true
   },
   "outputs": [],
   "source": [
    "def diccionarioAgrupar(nums):\n",
    "    sumCount = nums.combineByKey((lambda x: (x, 1)),\n",
    "                                 (lambda x, y: (x[0] + y, x[1] + 1)),\n",
    "                                 (lambda x, y: (x[0] + y[0], x[1] + y[1])))\n",
    "    return sumCount.collectAsMap()"
   ]
  },
  {
   "cell_type": "code",
   "execution_count": 10,
   "metadata": {
    "collapsed": false,
    "deletable": true,
    "editable": true
   },
   "outputs": [
    {
     "name": "stdout",
     "output_type": "stream",
     "text": [
      "{'very': (4, 1), 'coffee': (4, 2), 'pandas': (2, 1)}\n"
     ]
    }
   ],
   "source": [
    "diccionario = sc.parallelize([(\"coffee\", 1), (\"pandas\", 2), (\"coffee\", 3), (\"very\", 4)])\n",
    "resultado = diccionarioAgrupar(diccionario)\n",
    "print resultado"
   ]
  },
  {
   "cell_type": "markdown",
   "metadata": {},
   "source": [
    "### Accumulator"
   ]
  },
  {
   "cell_type": "code",
   "execution_count": 24,
   "metadata": {
    "collapsed": false
   },
   "outputs": [],
   "source": [
    "from pyspark.accumulators import AccumulatorParam\n",
    "\n",
    "class Sumador(AccumulatorParam):\n",
    "    def zero(self, initialValue):\n",
    "        return 1\n",
    "    def addInPlace(self, v1, v2):\n",
    "        return v1+v2"
   ]
  },
  {
   "cell_type": "code",
   "execution_count": 25,
   "metadata": {
    "collapsed": false
   },
   "outputs": [
    {
     "name": "stdout",
     "output_type": "stream",
     "text": [
      "value 14 \n"
     ]
    }
   ],
   "source": [
    "acc = sc.accumulator(1,Sumador())\n",
    "sc.parallelize([1,2,3,4]).foreach(lambda x: acc.add(x))\n",
    "\n",
    "print(\"value %d \" % acc.value)"
   ]
  },
  {
   "cell_type": "markdown",
   "metadata": {},
   "source": [
    "### Filter /map"
   ]
  },
  {
   "cell_type": "code",
   "execution_count": 27,
   "metadata": {
    "collapsed": true
   },
   "outputs": [],
   "source": [
    "def basicSquareNoOnes(nums):\n",
    "    \"\"\"Square the numbers\"\"\"\n",
    "    return nums.map(lambda x: x * x).filter(lambda x: x != 1)"
   ]
  },
  {
   "cell_type": "code",
   "execution_count": 28,
   "metadata": {
    "collapsed": false
   },
   "outputs": [
    {
     "name": "stdout",
     "output_type": "stream",
     "text": [
      "4 \n",
      "9 \n",
      "16 \n"
     ]
    }
   ],
   "source": [
    "nums = sc.parallelize([1, 2, 3, 4])\n",
    "output = sorted(basicSquareNoOnes(nums).collect())\n",
    "for num in output:\n",
    "    print \"%i \" % (num)"
   ]
  },
  {
   "cell_type": "markdown",
   "metadata": {},
   "source": [
    "### flatMapValues"
   ]
  },
  {
   "cell_type": "code",
   "execution_count": 32,
   "metadata": {
    "collapsed": true
   },
   "outputs": [],
   "source": [
    "import itertools\n",
    "\n",
    "def combineIfBothPresent(itrs):\n",
    "    \"\"\"Return an iterable of the elements from\n",
    "    both itr1 and itr2 if there are elements in both itr1 and itr2 otherwise\n",
    "    return an empty itrable\"\"\"\n",
    "    iter1 = itrs[0].__iter__()\n",
    "    iter2 = itrs[1].__iter__()\n",
    "    try:\n",
    "        e1 = iter1.next()\n",
    "        e2 = iter2.next()\n",
    "        return itertools.chain([e1], [e2], iter1, iter2)\n",
    "    except StopIteration:\n",
    "        return []\n",
    "\n",
    "\n",
    "def intersectByKey(rdd1, rdd2):\n",
    "    \"\"\"Intersect two RDDs by key\"\"\"\n",
    "    return rdd1.cogroup(rdd2).flatMapValues(combineIfBothPresent)"
   ]
  },
  {
   "cell_type": "code",
   "execution_count": 33,
   "metadata": {
    "collapsed": false
   },
   "outputs": [
    {
     "name": "stdout",
     "output_type": "stream",
     "text": [
      "[('pandas', 2), ('pandas', 21), ('pyspark', 1), ('pyspark', 20), ('pyspark', 3)]\n"
     ]
    }
   ],
   "source": [
    "rdd1 = sc.parallelize([(\"pyspark\", 1), (\"pandas\", 2), (\"pyspark\", 3), (\"apache\", 4)])\n",
    "rdd2 = sc.parallelize([(\"pyspark\", 20), (\"pandas\", 21)])\n",
    "print intersectByKey(rdd1, rdd2).collect()"
   ]
  }
 ],
 "metadata": {
  "kernelspec": {
   "display_name": "Python 2",
   "language": "python",
   "name": "python2"
  },
  "language_info": {
   "codemirror_mode": {
    "name": "ipython",
    "version": 2
   },
   "file_extension": ".py",
   "mimetype": "text/x-python",
   "name": "python",
   "nbconvert_exporter": "python",
   "pygments_lexer": "ipython2",
   "version": "2.7.12"
  }
 },
 "nbformat": 4,
 "nbformat_minor": 2
}
