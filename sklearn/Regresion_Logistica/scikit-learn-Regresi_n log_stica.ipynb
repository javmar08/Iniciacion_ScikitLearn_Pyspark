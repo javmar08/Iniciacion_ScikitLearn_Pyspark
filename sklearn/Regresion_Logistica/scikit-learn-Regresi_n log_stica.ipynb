{
 "cells": [
  {
   "cell_type": "code",
   "execution_count": 1,
   "metadata": {
    "collapsed": true
   },
   "outputs": [],
   "source": [
    "from sklearn.linear_model import LogisticRegression\n",
    "from sklearn.datasets import make_classification\n",
    "%matplotlib inline\n",
    "import matplotlib.pyplot as plt\n",
    "import numpy as np"
   ]
  },
  {
   "cell_type": "markdown",
   "metadata": {},
   "source": [
    "http://scikit-learn.org/stable/modules/generated/sklearn.datasets.make_classification.html\n",
    "Con la función `make_classification` de scikit-learn, creamos un conjunto de datos para clasificar. Para empezar vamos a contar con sólo un atributo o *feature* y dos clases o categorías. Los categorías van a estar separadas, pero permitiremos un cierto grado de solapamiento a través del parámetro `class_sep`"
   ]
  },
  {
   "cell_type": "code",
   "execution_count": 2,
   "metadata": {
    "collapsed": false
   },
   "outputs": [
    {
     "name": "stdout",
     "output_type": "stream",
     "text": [
      "[[ 0.16558809]\n",
      " [-0.62411408]\n",
      " [ 0.99467604]\n",
      " [-1.40343628]\n",
      " [ 0.80023702]\n",
      " [-1.18377264]\n",
      " [-0.19610046]\n",
      " [-0.35490151]\n",
      " [-0.46479925]\n",
      " [ 0.03870163]\n",
      " [ 0.44878302]\n",
      " [-1.09263471]\n",
      " [-0.18609941]\n",
      " [-0.00249061]\n",
      " [ 0.72169691]\n",
      " [-1.06492508]\n",
      " [ 0.21665901]\n",
      " [-0.46310126]\n",
      " [ 0.3706664 ]\n",
      " [ 0.27060197]\n",
      " [ 0.12780624]\n",
      " [-0.21071026]\n",
      " [ 0.65607395]\n",
      " [-0.38187916]\n",
      " [ 0.65598076]\n",
      " [-0.1265208 ]\n",
      " [ 0.4385876 ]\n",
      " [ 0.30942911]\n",
      " [ 0.52747478]\n",
      " [-0.13655417]\n",
      " [ 0.54806773]\n",
      " [-0.43661242]\n",
      " [ 0.80148213]\n",
      " [-0.88313558]\n",
      " [-0.02805607]\n",
      " [-0.24666714]\n",
      " [ 0.04533666]\n",
      " [ 0.29136609]\n",
      " [-0.528505  ]\n",
      " [ 0.11444509]\n",
      " [ 0.03729187]\n",
      " [ 0.14653091]\n",
      " [-0.43808621]\n",
      " [ 0.0928973 ]\n",
      " [-0.32122462]\n",
      " [-0.31642107]\n",
      " [-0.92538677]\n",
      " [-0.82924037]\n",
      " [-0.43632551]\n",
      " [ 0.05205052]\n",
      " [-0.36611696]\n",
      " [ 0.40498796]\n",
      " [ 0.10296635]\n",
      " [-0.54458002]\n",
      " [ 0.70757728]\n",
      " [-1.03242287]\n",
      " [ 1.123584  ]\n",
      " [-0.75079668]\n",
      " [ 0.60622057]\n",
      " [ 0.51851616]\n",
      " [ 0.7067352 ]\n",
      " [ 0.19317275]\n",
      " [ 0.72654265]\n",
      " [-0.68719044]\n",
      " [ 0.13242262]\n",
      " [-0.13158181]\n",
      " [ 0.86591511]\n",
      " [ 0.4679085 ]\n",
      " [-0.62441072]\n",
      " [ 0.45522704]\n",
      " [-0.80619389]\n",
      " [ 0.59390771]\n",
      " [ 0.65445151]\n",
      " [ 0.86310339]\n",
      " [ 0.45088909]\n",
      " [ 0.59375305]\n",
      " [-0.45723003]\n",
      " [-0.74304751]\n",
      " [ 0.83764949]\n",
      " [ 0.4198858 ]\n",
      " [-0.73060972]\n",
      " [-0.79444781]\n",
      " [ 0.91464781]\n",
      " [-0.06362208]\n",
      " [ 0.55438371]\n",
      " [ 0.68799406]\n",
      " [-0.08947422]\n",
      " [ 0.87684027]\n",
      " [-0.87495262]\n",
      " [ 0.70280948]\n",
      " [ 0.41061357]\n",
      " [ 0.59362652]\n",
      " [-0.75365828]\n",
      " [-0.18605384]\n",
      " [ 0.29598152]\n",
      " [-0.49001791]\n",
      " [-0.52675097]\n",
      " [-0.74376924]\n",
      " [-1.25638391]\n",
      " [ 0.90480776]]\n",
      "[1 0 1 0 1 0 0 0 0 1 1 0 0 0 1 0 1 0 1 1 1 1 1 0 1 0 1 1 1 0 1 0 1 0 0 1 1\n",
      " 1 0 1 0 0 0 0 0 0 0 0 0 0 0 1 1 0 1 0 1 0 1 1 1 1 1 0 0 0 1 1 0 1 0 1 1 1\n",
      " 1 1 0 0 1 1 0 0 1 0 1 1 0 1 0 1 1 1 0 0 1 0 0 0 0 1]\n"
     ]
    },
    {
     "data": {
      "text/plain": [
       "<matplotlib.text.Text at 0x7f0ec86c04e0>"
      ]
     },
     "execution_count": 2,
     "metadata": {},
     "output_type": "execute_result"
    },
    {
     "data": {
      "image/png": "[encoded data removed]",
      "text/plain": [
       "<matplotlib.figure.Figure at 0x7f0eca420898>"
      ]
     },
     "metadata": {},
     "output_type": "display_data"
    }
   ],
   "source": [
    "x, y = make_classification(n_features=1, n_informative=1, n_redundant=0, n_classes=2, n_clusters_per_class=1,class_sep=0.5)\n",
    "print(x)\n",
    "print(y)\n",
    "plt.scatter(x, y, alpha=0.6)\n",
    "plt.xlabel('X')\n",
    "plt.ylabel('Probabilidad')"
   ]
  },
  {
   "cell_type": "markdown",
   "metadata": {},
   "source": [
    "Los modelos lineales, también pueden ser utilizados para clasificaciones; es decir, que primero ajustamos el modelo lineal a la probabilidad de que una cierta clase o categoría ocurra y, a luego, utilizamos una función para crear un umbral en el cual especificamos el resultado de una de estas clases o categorías. La función que utiliza este modelo es la función logística.\n",
    "\n",
    "$$f(x) = \\frac{1}{1 + e^{-1}}$$\n",
    "\n",
    "En regresión logística los que vamos a hacer es calcular las probabilidades $p(C_k|x)$. La función logística o [sigmoide](http://es.wikipedia.org/wiki/Función_sigmoide) nos va a permitir definir esas probabilidades\n",
    "\n",
    "Como veremos a continuación, la sigmoide tiene forma de *S* y la función logística juega un papel muy importante en muchos algoritmos de clasificación.\n",
    "\n",
    "Primero definimos el modelo que vamos a emplear que será `LogisticRegression`. Lo cargamos con los parámetros por defecto y lo entrenamos."
   ]
  },
  {
   "cell_type": "code",
   "execution_count": 3,
   "metadata": {
    "collapsed": false
   },
   "outputs": [
    {
     "data": {
      "text/plain": [
       "LogisticRegression(C=1.0, class_weight=None, dual=False, fit_intercept=True,\n",
       "          intercept_scaling=1, max_iter=100, multi_class='ovr', n_jobs=1,\n",
       "          penalty='l2', random_state=None, solver='liblinear', tol=0.0001,\n",
       "          verbose=0, warm_start=False)"
      ]
     },
     "execution_count": 3,
     "metadata": {},
     "output_type": "execute_result"
    }
   ],
   "source": [
    "modelo = LogisticRegression()\n",
    "modelo.fit(x, y)"
   ]
  },
  {
   "cell_type": "markdown",
   "metadata": {},
   "source": [
    "Por defecto vemos los parámetros con los que se ha entrenado el modelo. Una vez entrenado podemos predecir las probabilidades de pertenencia a cada categoría. Para ello, como ya hemos dicho, utilizaremos la función `predict_proba()` que toma como datos de entrada los atributos *X*.\n",
    "\n",
    "En scikit-learn podemos obtener clasificaciones de ambas maneras una vez entrenado el modelo.\n",
    "\n",
    "+ `modelo.predict()`, para asignar una categoría.\n",
    "+ `modelo.predict_proba()`, para determinar la probabilidad de pertenencia.\n",
    "\n",
    "Lo que nos devuelve la función `predict_proba()` es un array de dimensiones (n atributos, n clases)"
   ]
  },
  {
   "cell_type": "code",
   "execution_count": 4,
   "metadata": {
    "collapsed": false
   },
   "outputs": [
    {
     "data": {
      "text/plain": [
       "<matplotlib.text.Text at 0x7f0ec8619160>"
      ]
     },
     "execution_count": 4,
     "metadata": {},
     "output_type": "execute_result"
    },
    {
     "data": {
      "image/png": "[encoded data removed]",
      "text/plain": [
       "<matplotlib.figure.Figure at 0x7f0ec86cc208>"
      ]
     },
     "metadata": {},
     "output_type": "display_data"
    }
   ],
   "source": [
    "plt.scatter(x, y, alpha=0.4, label='real')\n",
    "plt.plot(np.sort(x, axis=0), modelo.predict_proba(np.sort(x, axis=0))[:,1], color='r', label='sigmoide')\n",
    "plt.legend(loc=2)\n",
    "plt.xlabel('X')\n",
    "plt.ylabel('Probabilidad')"
   ]
  },
  {
   "cell_type": "markdown",
   "metadata": {},
   "source": [
    "Se aprecia claramente la curva en forma de *S* de la función logística que es lo que estábamos buscando. Esto nos dice que un punto con $x=0$ tiene aproximadamente un 50 % de probabilidades de pertenecer a cualquiera de las dos categorías.\n",
    "\n",
    "Si a partir de las probabilidades quisiesemos hacer una clasificación por categorías no tendríamos más que definir un valor umbral. Es decir, cuando la función logística asigna una probabilidad mayor a, por ejemplo, 0.5 entonces asignamos esa categoría. Eso es básicamente lo que hace `predict` tal y como podemos ver a continuación."
   ]
  },
  {
   "cell_type": "code",
   "execution_count": 5,
   "metadata": {
    "collapsed": false
   },
   "outputs": [
    {
     "name": "stdout",
     "output_type": "stream",
     "text": [
      "Accuracy: 0.960000\n",
      "Precision: 0.961538\n"
     ]
    }
   ],
   "source": [
    "#Medimos lo bueno que es nuestro modelo dividiendo datos de entrenamiento y datos de prueba\n",
    "from sklearn import model_selection, metrics\n",
    "x_train, x_test, y_train, y_test = model_selection.train_test_split(x, y)\n",
    "modelo.fit(x_train, y_train)\n",
    "y_pred = modelo.predict(x_test)\n",
    "print(\"Accuracy: %2f\" % metrics.accuracy_score(y_test, y_pred))\n",
    "print(\"Precision: %2f\" % metrics.precision_score(y_test, y_pred, average=\"macro\"))"
   ]
  },
  {
   "cell_type": "markdown",
   "metadata": {},
   "source": [
    "Con la función make_classification de scikit-learn, creamos un conjunto de datos para clasificar. En este caso tenemos 4 atributos o features."
   ]
  },
  {
   "cell_type": "code",
   "execution_count": 6,
   "metadata": {
    "collapsed": false
   },
   "outputs": [],
   "source": [
    "x, y = make_classification(n_samples=100, n_features=4)"
   ]
  },
  {
   "cell_type": "code",
   "execution_count": 7,
   "metadata": {
    "collapsed": false
   },
   "outputs": [
    {
     "name": "stdout",
     "output_type": "stream",
     "text": [
      "(80, 4)\n",
      "(20, 4)\n"
     ]
    }
   ],
   "source": [
    "# Importando el modelo\n",
    "from sklearn.linear_model import LogisticRegression\n",
    "\n",
    "# Creando el modelo\n",
    "modelo = LogisticRegression()\n",
    "\n",
    "# Dividiendo el dataset en entrenamiento y evaluacion\n",
    "x_entrenamiento = x[:-20]\n",
    "x_evaluacion = x[-20:]\n",
    "y_entrenamiento = y[:-20]\n",
    "y_evaluacion = y[-20:]\n",
    "\n",
    "print(x_entrenamiento.shape)\n",
    "print(x_evaluacion.shape)\n",
    "\n",
    "#ajustando el modelo\n",
    "modelo.fit(x_entrenamiento, y_entrenamiento) \n",
    "\n",
    "# Realizando las predicciones\n",
    "y_predic_entrenamiento = modelo.predict(x_entrenamiento) \n",
    "y_predic_evaluacion = modelo.predict(x_evaluacion)"
   ]
  },
  {
   "cell_type": "code",
   "execution_count": 8,
   "metadata": {
    "collapsed": false
   },
   "outputs": [
    {
     "name": "stdout",
     "output_type": "stream",
     "text": [
      "Accuracy datos entrenamiento: 0.912500\n",
      "Precision datos evaluacion: 0.950000\n"
     ]
    }
   ],
   "source": [
    "# Verificando la exactitud del modelo\n",
    "#Accuracy-->se realiza sobre los datos de entrenamiento\n",
    "#Precision-->se realiza sobre los datos de evaluacion\n",
    "\n",
    "print(\"Accuracy datos entrenamiento: %2f\" % metrics.accuracy_score(y_entrenamiento, y_predic_entrenamiento))\n",
    "print(\"Precision datos evaluacion: %2f\" % metrics.precision_score(y_evaluacion, y_predic_evaluacion, average=\"macro\"))"
   ]
  },
  {
   "cell_type": "code",
   "execution_count": 10,
   "metadata": {
    "collapsed": false
   },
   "outputs": [
    {
     "name": "stdout",
     "output_type": "stream",
     "text": [
      "(80, 4)\n",
      "(20, 4)\n",
      "Accuracy: 0.950000\n",
      "Precision: 0.961538\n"
     ]
    }
   ],
   "source": [
    "# Dividiendo el dataset en entrenamiento y evaluacion\n",
    "x_train, x_test, y_train, y_test = model_selection.train_test_split(x, y,train_size=0.8)\n",
    "\n",
    "print(x_train.shape)\n",
    "print(x_test.shape)\n",
    "\n",
    "modelo.fit(x_train, y_train)\n",
    "y_pred = modelo.predict(x_test)\n",
    "print(\"Accuracy: %2f\" % metrics.accuracy_score(y_test, y_pred))\n",
    "print(\"Precision: %2f\" % metrics.precision_score(y_test, y_pred, average=\"macro\"))"
   ]
  },
  {
   "cell_type": "markdown",
   "metadata": {},
   "source": [
    "Como podemos ver en este ejemplo también nuestro modelo tiene bastante precisión clasificando las categorías de nuestro dataset."
   ]
  }
 ],
 "metadata": {
  "kernelspec": {
   "display_name": "Python 3",
   "language": "python",
   "name": "python3"
  },
  "language_info": {
   "codemirror_mode": {
    "name": "ipython",
    "version": 3
   },
   "file_extension": ".py",
   "mimetype": "text/x-python",
   "name": "python",
   "nbconvert_exporter": "python",
   "pygments_lexer": "ipython3",
   "version": "3.6.0"
  }
 },
 "nbformat": 4,
 "nbformat_minor": 0
}
