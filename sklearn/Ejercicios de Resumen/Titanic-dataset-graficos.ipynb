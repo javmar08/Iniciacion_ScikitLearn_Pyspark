{
 "cells": [
  {
   "cell_type": "markdown",
   "metadata": {
    "collapsed": true
   },
   "source": [
    "## Análisis de datos del Titanic con Python\n",
    "\n",
    "### Para ejemplificar el análisis, vamos a utilizar nuestras habituales librerías científicas [NumPy](http://www.numpy.org/), [Pandas](http://pandas.pydata.org/),  [Matplotlib](http://matplotlib.org/) y [Seaborn](http://stanford.edu/~mwaskom/software/seaborn/).\n",
    "\n",
    "### El siguiente [dataset](https://es.wikipedia.org/wiki/Conjunto_de_datos) proporciona información sobre los pasajeros del [Titanic](https://es.wikipedia.org/wiki/RMS_Titanic), que se resume de acuerdo con el nivel económico (clase), el sexo, la edad y la supervivencia."
   ]
  },
  {
   "cell_type": "code",
   "execution_count": 1,
   "metadata": {
    "collapsed": false
   },
   "outputs": [],
   "source": [
    "# importando modulos necesarios\n",
    "%matplotlib inline\n",
    "\n",
    "import matplotlib.pyplot as plt\n",
    "import numpy as np \n",
    "import pandas as pd \n",
    "import seaborn as sns"
   ]
  },
  {
   "cell_type": "markdown",
   "metadata": {},
   "source": [
    "## Importar titanic dataset usando pandas\n",
    "### El paquete Python pandas (http://pandas.pydata.org/), por ejemplo, proporciona estructuras de datos y herramientas para el análisis de datos. Utilizaremos pandas para importar los datos del Titanic"
   ]
  },
  {
   "cell_type": "code",
   "execution_count": 2,
   "metadata": {
    "collapsed": false
   },
   "outputs": [
    {
     "name": "stdout",
     "output_type": "stream",
     "text": [
      "      row.names pclass  survived  \\\n",
      "0             1    1st         1   \n",
      "1             2    1st         0   \n",
      "2             3    1st         0   \n",
      "3             4    1st         0   \n",
      "4             5    1st         1   \n",
      "5             6    1st         1   \n",
      "6             7    1st         1   \n",
      "7             8    1st         0   \n",
      "8             9    1st         1   \n",
      "9            10    1st         0   \n",
      "10           11    1st         0   \n",
      "11           12    1st         1   \n",
      "12           13    1st         1   \n",
      "13           14    1st         1   \n",
      "14           15    1st         0   \n",
      "15           16    1st         1   \n",
      "16           17    1st         0   \n",
      "17           18    1st         0   \n",
      "18           19    1st         1   \n",
      "19           20    1st         1   \n",
      "20           21    1st         1   \n",
      "21           22    1st         0   \n",
      "22           23    1st         1   \n",
      "23           24    1st         1   \n",
      "24           25    1st         1   \n",
      "25           26    1st         0   \n",
      "26           27    1st         1   \n",
      "27           28    1st         1   \n",
      "28           29    1st         1   \n",
      "29           30    1st         0   \n",
      "...         ...    ...       ...   \n",
      "1283       1284    3rd         0   \n",
      "1284       1285    3rd         0   \n",
      "1285       1286    3rd         0   \n",
      "1286       1287    3rd         0   \n",
      "1287       1288    3rd         0   \n",
      "1288       1289    3rd         0   \n",
      "1289       1290    3rd         1   \n",
      "1290       1291    3rd         0   \n",
      "1291       1292    3rd         0   \n",
      "1292       1293    3rd         0   \n",
      "1293       1294    3rd         1   \n",
      "1294       1295    3rd         0   \n",
      "1295       1296    3rd         0   \n",
      "1296       1297    3rd         0   \n",
      "1297       1298    3rd         0   \n",
      "1298       1299    3rd         0   \n",
      "1299       1300    3rd         0   \n",
      "1300       1301    3rd         0   \n",
      "1301       1302    3rd         0   \n",
      "1302       1303    3rd         1   \n",
      "1303       1304    3rd         0   \n",
      "1304       1305    3rd         1   \n",
      "1305       1306    3rd         0   \n",
      "1306       1307    3rd         0   \n",
      "1307       1308    3rd         0   \n",
      "1308       1309    3rd         0   \n",
      "1309       1310    3rd         0   \n",
      "1310       1311    3rd         0   \n",
      "1311       1312    3rd         0   \n",
      "1312       1313    3rd         0   \n",
      "\n",
      "                                                  name      age     embarked  \\\n",
      "0                         Allen, Miss Elisabeth Walton  29.0000  Southampton   \n",
      "1                          Allison, Miss Helen Loraine   2.0000  Southampton   \n",
      "2                  Allison, Mr Hudson Joshua Creighton  30.0000  Southampton   \n",
      "3      Allison, Mrs Hudson J.C. (Bessie Waldo Daniels)  25.0000  Southampton   \n",
      "4                        Allison, Master Hudson Trevor   0.9167  Southampton   \n",
      "5                                   Anderson, Mr Harry  47.0000  Southampton   \n",
      "6                     Andrews, Miss Kornelia Theodosia  63.0000  Southampton   \n",
      "7                               Andrews, Mr Thomas, jr  39.0000  Southampton   \n",
      "8         Appleton, Mrs Edward Dale (Charlotte Lamson)  58.0000  Southampton   \n",
      "9                               Artagaveytia, Mr Ramon  71.0000    Cherbourg   \n",
      "10                           Astor, Colonel John Jacob  47.0000    Cherbourg   \n",
      "11    Astor, Mrs John Jacob (Madeleine Talmadge Force)  19.0000    Cherbourg   \n",
      "12                        Aubert, Mrs Leontine Pauline      NaN    Cherbourg   \n",
      "13                           Barkworth, Mr Algernon H.      NaN  Southampton   \n",
      "14                                 Baumann, Mr John D.      NaN  Southampton   \n",
      "15      Baxter, Mrs James (Helene DeLaudeniere Chaput)  50.0000    Cherbourg   \n",
      "16                             Baxter, Mr Quigg Edmond  24.0000    Cherbourg   \n",
      "17                                 Beattie, Mr Thomson  36.0000    Cherbourg   \n",
      "18                        Beckwith, Mr Richard Leonard  37.0000  Southampton   \n",
      "19     Beckwith, Mrs Richard Leonard (Sallie Monypeny)  47.0000  Southampton   \n",
      "20                                Behr, Mr Karl Howell  26.0000    Cherbourg   \n",
      "21                                  Birnbaum, Mr Jakob  25.0000    Cherbourg   \n",
      "22                             Bishop, Mr Dickinson H.  25.0000    Cherbourg   \n",
      "23             Bishop, Mrs Dickinson H. (Helen Walton)  19.0000    Cherbourg   \n",
      "24             Bjornstrm-Steffansson, Mr Mauritz Hakan  28.0000  Southampton   \n",
      "25                         Blackwell, Mr Stephen Weart  45.0000  Southampton   \n",
      "26                                     Blank, Mr Henry  39.0000    Cherbourg   \n",
      "27                              Bonnell, Miss Caroline  30.0000  Southampton   \n",
      "28                             Bonnell, Miss Elizabeth  58.0000  Southampton   \n",
      "29                             Borebank, Mr John James      NaN  Southampton   \n",
      "...                                                ...      ...          ...   \n",
      "1283               Vestrom, Miss Hulda Amanda Adolfina      NaN          NaN   \n",
      "1284                                    Vonk, Mr Jenko      NaN          NaN   \n",
      "1285                                Ware, Mr Frederick      NaN          NaN   \n",
      "1286                        Warren, Mr Charles William      NaN          NaN   \n",
      "1287                                  Wazli, Mr Yousif      NaN          NaN   \n",
      "1288                                  Webber, Mr James      NaN          NaN   \n",
      "1289                     Wennerstrom, Mr August Edvard      NaN          NaN   \n",
      "1290                                Wenzel, Mr Linhart      NaN          NaN   \n",
      "1291                        Widegren, Mr Charles Peter      NaN          NaN   \n",
      "1292                          Wiklund, Mr Jacob Alfred      NaN          NaN   \n",
      "1293                                 Wilkes, Mrs Ellen      NaN          NaN   \n",
      "1294                                  Willer, Mr Aaron      NaN          NaN   \n",
      "1295                                 Willey, Mr Edward      NaN          NaN   \n",
      "1296                          Williams, Mr Howard Hugh      NaN          NaN   \n",
      "1297                               Williams, Mr Leslie      NaN          NaN   \n",
      "1298                                Windelov, Mr Einar      NaN          NaN   \n",
      "1299                                   Wirz, Mr Albert      NaN          NaN   \n",
      "1300                             Wiseman, Mr Phillippe      NaN          NaN   \n",
      "1301                           Wittevrongel, Mr Camiel      NaN          NaN   \n",
      "1302                                 Yalsevac, Mr Ivan      NaN          NaN   \n",
      "1303                                Yasbeck, Mr Antoni      NaN          NaN   \n",
      "1304                               Yasbeck, Mrs Antoni      NaN          NaN   \n",
      "1305                                Youssef, Mr Gerios      NaN          NaN   \n",
      "1306                               Zabour, Miss Hileni      NaN          NaN   \n",
      "1307                               Zabour, Miss Tamini      NaN          NaN   \n",
      "1308                                Zakarian, Mr Artun      NaN          NaN   \n",
      "1309                            Zakarian, Mr Maprieder      NaN          NaN   \n",
      "1310                                   Zenn, Mr Philip      NaN          NaN   \n",
      "1311                                     Zievens, Rene      NaN          NaN   \n",
      "1312                                    Zimmerman, Leo      NaN          NaN   \n",
      "\n",
      "                               home.dest     room             ticket   boat  \\\n",
      "0                           St Louis, MO      B-5         24160 L221      2   \n",
      "1        Montreal, PQ / Chesterville, ON      C26                NaN    NaN   \n",
      "2        Montreal, PQ / Chesterville, ON      C26                NaN  (135)   \n",
      "3        Montreal, PQ / Chesterville, ON      C26                NaN    NaN   \n",
      "4        Montreal, PQ / Chesterville, ON      C22                NaN     11   \n",
      "5                           New York, NY     E-12                NaN      3   \n",
      "6                             Hudson, NY      D-7          13502 L77     10   \n",
      "7                            Belfast, NI     A-36                NaN    NaN   \n",
      "8                    Bayside, Queens, NY    C-101                NaN      2   \n",
      "9                    Montevideo, Uruguay      NaN                NaN   (22)   \n",
      "10                          New York, NY      NaN  17754 L224 10s 6d  (124)   \n",
      "11                          New York, NY      NaN  17754 L224 10s 6d      4   \n",
      "12                         Paris, France     B-35       17477 L69 6s      9   \n",
      "13                         Hessle, Yorks     A-23                NaN      B   \n",
      "14                          New York, NY      NaN                NaN    NaN   \n",
      "15                          Montreal, PQ  B-58/60                NaN      6   \n",
      "16                          Montreal, PQ  B-58/60                NaN    NaN   \n",
      "17                          Winnipeg, MN      C-6                NaN    NaN   \n",
      "18                          New York, NY     D-35                NaN      5   \n",
      "19                          New York, NY     D-35                NaN      5   \n",
      "20                          New York, NY    C-148                NaN      5   \n",
      "21                     San Francisco, CA      NaN                NaN  (148)   \n",
      "22                          Dowagiac, MI     B-49                NaN      7   \n",
      "23                          Dowagiac, MI     B-49                NaN      7   \n",
      "24    Stockholm, Sweden / Washington, DC      NaN                         D   \n",
      "25                           Trenton, NJ      NaN                NaN  (241)   \n",
      "26                        Glen Ridge, NJ     A-31                NaN      7   \n",
      "27                        Youngstown, OH      C-7                NaN      8   \n",
      "28     Birkdale, England Cleveland, Ohio    C-103                NaN      8   \n",
      "29                 London / Winnipeg, MB   D-21/2                NaN    NaN   \n",
      "...                                  ...      ...                ...    ...   \n",
      "1283                                 NaN      NaN                NaN    NaN   \n",
      "1284                                 NaN      NaN                NaN    NaN   \n",
      "1285                                 NaN      NaN                NaN    NaN   \n",
      "1286                                 NaN      NaN                NaN    NaN   \n",
      "1287                                 NaN      NaN                NaN    NaN   \n",
      "1288                                 NaN      NaN                NaN    NaN   \n",
      "1289                                 NaN      NaN                NaN    NaN   \n",
      "1290                                 NaN      NaN                NaN    NaN   \n",
      "1291                                 NaN      NaN                NaN    NaN   \n",
      "1292                                 NaN      NaN                NaN    NaN   \n",
      "1293                                 NaN      NaN                NaN    NaN   \n",
      "1294                                 NaN      NaN                NaN    NaN   \n",
      "1295                                 NaN      NaN                NaN    NaN   \n",
      "1296                                 NaN      NaN                NaN    NaN   \n",
      "1297                                 NaN      NaN                NaN    NaN   \n",
      "1298                                 NaN      NaN                NaN    NaN   \n",
      "1299                                 NaN      NaN                NaN    NaN   \n",
      "1300                                 NaN      NaN                NaN    NaN   \n",
      "1301                                 NaN      NaN                NaN    NaN   \n",
      "1302                                 NaN      NaN                NaN    NaN   \n",
      "1303                                 NaN      NaN                NaN    NaN   \n",
      "1304                                 NaN      NaN                NaN    NaN   \n",
      "1305                                 NaN      NaN                NaN    NaN   \n",
      "1306                                 NaN      NaN                NaN    NaN   \n",
      "1307                                 NaN      NaN                NaN    NaN   \n",
      "1308                                 NaN      NaN                NaN    NaN   \n",
      "1309                                 NaN      NaN                NaN    NaN   \n",
      "1310                                 NaN      NaN                NaN    NaN   \n",
      "1311                                 NaN      NaN                NaN    NaN   \n",
      "1312                                 NaN      NaN                NaN    NaN   \n",
      "\n",
      "         sex  \n",
      "0     female  \n",
      "1     female  \n",
      "2       male  \n",
      "3     female  \n",
      "4       male  \n",
      "5       male  \n",
      "6     female  \n",
      "7       male  \n",
      "8     female  \n",
      "9       male  \n",
      "10      male  \n",
      "11    female  \n",
      "12    female  \n",
      "13      male  \n",
      "14      male  \n",
      "15    female  \n",
      "16      male  \n",
      "17      male  \n",
      "18      male  \n",
      "19    female  \n",
      "20      male  \n",
      "21      male  \n",
      "22      male  \n",
      "23    female  \n",
      "24      male  \n",
      "25      male  \n",
      "26      male  \n",
      "27    female  \n",
      "28    female  \n",
      "29      male  \n",
      "...      ...  \n",
      "1283  female  \n",
      "1284    male  \n",
      "1285    male  \n",
      "1286    male  \n",
      "1287    male  \n",
      "1288    male  \n",
      "1289    male  \n",
      "1290    male  \n",
      "1291    male  \n",
      "1292    male  \n",
      "1293  female  \n",
      "1294    male  \n",
      "1295    male  \n",
      "1296    male  \n",
      "1297    male  \n",
      "1298    male  \n",
      "1299    male  \n",
      "1300    male  \n",
      "1301    male  \n",
      "1302    male  \n",
      "1303    male  \n",
      "1304  female  \n",
      "1305    male  \n",
      "1306  female  \n",
      "1307  female  \n",
      "1308    male  \n",
      "1309    male  \n",
      "1310    male  \n",
      "1311  female  \n",
      "1312    male  \n",
      "\n",
      "[1313 rows x 11 columns]\n"
     ]
    }
   ],
   "source": [
    "# importando dataset\n",
    "titanic = pd.read_csv('titanic.csv')\n",
    "print(titanic)"
   ]
  },
  {
   "cell_type": "markdown",
   "metadata": {},
   "source": [
    "### Podemos ver que cada columna csv tiene una característica correspondiente en el DataFrame"
   ]
  },
  {
   "cell_type": "code",
   "execution_count": 3,
   "metadata": {
    "collapsed": false
   },
   "outputs": [
    {
     "name": "stdout",
     "output_type": "stream",
     "text": [
      "  pclass  survived      age     embarked   boat     sex\n",
      "0    1st         1  29.0000  Southampton      2  female\n",
      "1    1st         0   2.0000  Southampton    NaN  female\n",
      "2    1st         0  30.0000  Southampton  (135)    male\n",
      "3    1st         0  25.0000  Southampton    NaN  female\n",
      "4    1st         1   0.9167  Southampton     11    male\n"
     ]
    }
   ],
   "source": [
    "print(titanic.head()[['pclass', 'survived', 'age', 'embarked', 'boat', 'sex']])"
   ]
  },
  {
   "cell_type": "code",
   "execution_count": 4,
   "metadata": {
    "collapsed": false
   },
   "outputs": [
    {
     "data": {
      "text/html": [
       "<div>\n",
       "<table border=\"1\" class=\"dataframe\">\n",
       "  <thead>\n",
       "    <tr style=\"text-align: right;\">\n",
       "      <th></th>\n",
       "      <th>row.names</th>\n",
       "      <th>pclass</th>\n",
       "      <th>survived</th>\n",
       "      <th>name</th>\n",
       "      <th>age</th>\n",
       "      <th>embarked</th>\n",
       "      <th>home.dest</th>\n",
       "      <th>room</th>\n",
       "      <th>ticket</th>\n",
       "      <th>boat</th>\n",
       "      <th>sex</th>\n",
       "    </tr>\n",
       "  </thead>\n",
       "  <tbody>\n",
       "    <tr>\n",
       "      <th>0</th>\n",
       "      <td>1</td>\n",
       "      <td>1st</td>\n",
       "      <td>1</td>\n",
       "      <td>Allen, Miss Elisabeth Walton</td>\n",
       "      <td>29.0000</td>\n",
       "      <td>Southampton</td>\n",
       "      <td>St Louis, MO</td>\n",
       "      <td>B-5</td>\n",
       "      <td>24160 L221</td>\n",
       "      <td>2</td>\n",
       "      <td>female</td>\n",
       "    </tr>\n",
       "    <tr>\n",
       "      <th>1</th>\n",
       "      <td>2</td>\n",
       "      <td>1st</td>\n",
       "      <td>0</td>\n",
       "      <td>Allison, Miss Helen Loraine</td>\n",
       "      <td>2.0000</td>\n",
       "      <td>Southampton</td>\n",
       "      <td>Montreal, PQ / Chesterville, ON</td>\n",
       "      <td>C26</td>\n",
       "      <td>NaN</td>\n",
       "      <td>NaN</td>\n",
       "      <td>female</td>\n",
       "    </tr>\n",
       "    <tr>\n",
       "      <th>2</th>\n",
       "      <td>3</td>\n",
       "      <td>1st</td>\n",
       "      <td>0</td>\n",
       "      <td>Allison, Mr Hudson Joshua Creighton</td>\n",
       "      <td>30.0000</td>\n",
       "      <td>Southampton</td>\n",
       "      <td>Montreal, PQ / Chesterville, ON</td>\n",
       "      <td>C26</td>\n",
       "      <td>NaN</td>\n",
       "      <td>(135)</td>\n",
       "      <td>male</td>\n",
       "    </tr>\n",
       "    <tr>\n",
       "      <th>3</th>\n",
       "      <td>4</td>\n",
       "      <td>1st</td>\n",
       "      <td>0</td>\n",
       "      <td>Allison, Mrs Hudson J.C. (Bessie Waldo Daniels)</td>\n",
       "      <td>25.0000</td>\n",
       "      <td>Southampton</td>\n",
       "      <td>Montreal, PQ / Chesterville, ON</td>\n",
       "      <td>C26</td>\n",
       "      <td>NaN</td>\n",
       "      <td>NaN</td>\n",
       "      <td>female</td>\n",
       "    </tr>\n",
       "    <tr>\n",
       "      <th>4</th>\n",
       "      <td>5</td>\n",
       "      <td>1st</td>\n",
       "      <td>1</td>\n",
       "      <td>Allison, Master Hudson Trevor</td>\n",
       "      <td>0.9167</td>\n",
       "      <td>Southampton</td>\n",
       "      <td>Montreal, PQ / Chesterville, ON</td>\n",
       "      <td>C22</td>\n",
       "      <td>NaN</td>\n",
       "      <td>11</td>\n",
       "      <td>male</td>\n",
       "    </tr>\n",
       "    <tr>\n",
       "      <th>5</th>\n",
       "      <td>6</td>\n",
       "      <td>1st</td>\n",
       "      <td>1</td>\n",
       "      <td>Anderson, Mr Harry</td>\n",
       "      <td>47.0000</td>\n",
       "      <td>Southampton</td>\n",
       "      <td>New York, NY</td>\n",
       "      <td>E-12</td>\n",
       "      <td>NaN</td>\n",
       "      <td>3</td>\n",
       "      <td>male</td>\n",
       "    </tr>\n",
       "    <tr>\n",
       "      <th>6</th>\n",
       "      <td>7</td>\n",
       "      <td>1st</td>\n",
       "      <td>1</td>\n",
       "      <td>Andrews, Miss Kornelia Theodosia</td>\n",
       "      <td>63.0000</td>\n",
       "      <td>Southampton</td>\n",
       "      <td>Hudson, NY</td>\n",
       "      <td>D-7</td>\n",
       "      <td>13502 L77</td>\n",
       "      <td>10</td>\n",
       "      <td>female</td>\n",
       "    </tr>\n",
       "    <tr>\n",
       "      <th>7</th>\n",
       "      <td>8</td>\n",
       "      <td>1st</td>\n",
       "      <td>0</td>\n",
       "      <td>Andrews, Mr Thomas, jr</td>\n",
       "      <td>39.0000</td>\n",
       "      <td>Southampton</td>\n",
       "      <td>Belfast, NI</td>\n",
       "      <td>A-36</td>\n",
       "      <td>NaN</td>\n",
       "      <td>NaN</td>\n",
       "      <td>male</td>\n",
       "    </tr>\n",
       "    <tr>\n",
       "      <th>8</th>\n",
       "      <td>9</td>\n",
       "      <td>1st</td>\n",
       "      <td>1</td>\n",
       "      <td>Appleton, Mrs Edward Dale (Charlotte Lamson)</td>\n",
       "      <td>58.0000</td>\n",
       "      <td>Southampton</td>\n",
       "      <td>Bayside, Queens, NY</td>\n",
       "      <td>C-101</td>\n",
       "      <td>NaN</td>\n",
       "      <td>2</td>\n",
       "      <td>female</td>\n",
       "    </tr>\n",
       "    <tr>\n",
       "      <th>9</th>\n",
       "      <td>10</td>\n",
       "      <td>1st</td>\n",
       "      <td>0</td>\n",
       "      <td>Artagaveytia, Mr Ramon</td>\n",
       "      <td>71.0000</td>\n",
       "      <td>Cherbourg</td>\n",
       "      <td>Montevideo, Uruguay</td>\n",
       "      <td>NaN</td>\n",
       "      <td>NaN</td>\n",
       "      <td>(22)</td>\n",
       "      <td>male</td>\n",
       "    </tr>\n",
       "  </tbody>\n",
       "</table>\n",
       "</div>"
      ],
      "text/plain": [
       "   row.names pclass  survived  \\\n",
       "0          1    1st         1   \n",
       "1          2    1st         0   \n",
       "2          3    1st         0   \n",
       "3          4    1st         0   \n",
       "4          5    1st         1   \n",
       "5          6    1st         1   \n",
       "6          7    1st         1   \n",
       "7          8    1st         0   \n",
       "8          9    1st         1   \n",
       "9         10    1st         0   \n",
       "\n",
       "                                              name      age     embarked  \\\n",
       "0                     Allen, Miss Elisabeth Walton  29.0000  Southampton   \n",
       "1                      Allison, Miss Helen Loraine   2.0000  Southampton   \n",
       "2              Allison, Mr Hudson Joshua Creighton  30.0000  Southampton   \n",
       "3  Allison, Mrs Hudson J.C. (Bessie Waldo Daniels)  25.0000  Southampton   \n",
       "4                    Allison, Master Hudson Trevor   0.9167  Southampton   \n",
       "5                               Anderson, Mr Harry  47.0000  Southampton   \n",
       "6                 Andrews, Miss Kornelia Theodosia  63.0000  Southampton   \n",
       "7                           Andrews, Mr Thomas, jr  39.0000  Southampton   \n",
       "8     Appleton, Mrs Edward Dale (Charlotte Lamson)  58.0000  Southampton   \n",
       "9                           Artagaveytia, Mr Ramon  71.0000    Cherbourg   \n",
       "\n",
       "                         home.dest   room      ticket   boat     sex  \n",
       "0                     St Louis, MO    B-5  24160 L221      2  female  \n",
       "1  Montreal, PQ / Chesterville, ON    C26         NaN    NaN  female  \n",
       "2  Montreal, PQ / Chesterville, ON    C26         NaN  (135)    male  \n",
       "3  Montreal, PQ / Chesterville, ON    C26         NaN    NaN  female  \n",
       "4  Montreal, PQ / Chesterville, ON    C22         NaN     11    male  \n",
       "5                     New York, NY   E-12         NaN      3    male  \n",
       "6                       Hudson, NY    D-7   13502 L77     10  female  \n",
       "7                      Belfast, NI   A-36         NaN    NaN    male  \n",
       "8              Bayside, Queens, NY  C-101         NaN      2  female  \n",
       "9              Montevideo, Uruguay    NaN         NaN   (22)    male  "
      ]
     },
     "execution_count": 4,
     "metadata": {},
     "output_type": "execute_result"
    }
   ],
   "source": [
    "# ver primeros 10 registros\n",
    "titanic.head(10)"
   ]
  },
  {
   "cell_type": "markdown",
   "metadata": {
    "hide_input": false
   },
   "source": [
    "### El problema con [datos](https://es.wikipedia.org/wiki/Dato) como estos, y en general con la mayoría de las *tablas de [datos](https://es.wikipedia.org/wiki/Dato)*, es que nos presentan mucha información y no nos permiten ver que es lo que realmente sucede o sucedió. Por tanto, deberíamos procesarla de alguna manera para hacernos una imagen de lo que los [datos](https://es.wikipedia.org/wiki/Dato) realmente representan y nos quieren decir; y que mejor manera para hacernos una imagen de algo que utilizar *visualizaciones*. Una buena *visualización de los datos* puede revelar cosas que es probable que no podamos ver en una tabla de números y nos ayudará a pensar con claridad acerca de los patrones y relaciones que pueden estar escondidos en los [datos](https://es.wikipedia.org/wiki/Dato). También nos va a ayudar a encontrar las características y patrones más importantes.\n",
    "\n",
    "### Tablas de frecuencia\n",
    "\n",
    "### Para *hacernos una imagen* de los [datos](https://es.wikipedia.org/wiki/Dato), lo primero que tenemos que hacer es agruparlos. Al formar diferentes grupos nos vamos acercando a la comprensión de los [datos](https://es.wikipedia.org/wiki/Dato). La idea es poder ver como se distribuyen los datos a través de las diferentes categorías. Para los [datos categóricos](https://en.wikipedia.org/wiki/Categorical_variable), agrupar es fácil; simplemente debemos contar el número de ítems que corresponden a cada categoría y agruparlos.\n",
    "\n",
    "### Una forma en la que podemos agrupar nuestro [dataset](https://es.wikipedia.org/wiki/Conjunto_de_datos) del [Titanic](https://es.wikipedia.org/wiki/RMS_Titanic) es contando las diferentes *clases* de pasajeros. Podemos organizar estos conteos en una *tabla de [frecuencia](https://es.wikipedia.org/wiki/Frecuencia_estad%C3%ADstica)*, que registra los totales y los nombres de las categorías utilizando la función `value_counts` que nos proporciona [Pandas](http://pandas.pydata.org/) del siguiente modo: "
   ]
  },
  {
   "cell_type": "code",
   "execution_count": 5,
   "metadata": {
    "collapsed": false
   },
   "outputs": [
    {
     "data": {
      "text/plain": [
       "3rd    711\n",
       "1st    322\n",
       "2nd    280\n",
       "Name: pclass, dtype: int64"
      ]
     },
     "execution_count": 5,
     "metadata": {},
     "output_type": "execute_result"
    }
   ],
   "source": [
    "# tabla de frecuencia de clases de pasajeros\n",
    "pd.value_counts(titanic['pclass'])"
   ]
  },
  {
   "cell_type": "markdown",
   "metadata": {},
   "source": [
    "### Contar las cantidad de apariciones de cada categoría puede ser útil, pero a veces puede resultar más útil saber la *fracción o proporción* de los [datos](https://es.wikipedia.org/wiki/Dato) de cada categoría, así que podríamos entonces dividir los recuentos por el total de casos para obtener los porcentajes que representa cada categoría. \n",
    "\n",
    "### Una *tabla de [frecuencia](https://es.wikipedia.org/wiki/Frecuencia_estad%C3%ADstica) relativa* muestra los porcentajes, en lugar de los recuentos de los valores en cada categoría. Ambos tipos de tablas muestran cómo los casos se distribuyen a través de las categorías. De esta manera, ellas describen la *distribución* de una [variable categórica](https://en.wikipedia.org/wiki/Categorical_variable), ya que enumeran las posibles categorías y nos dicen con qué frecuencia se produce cada una de ellas."
   ]
  },
  {
   "cell_type": "code",
   "execution_count": 6,
   "metadata": {
    "collapsed": false
   },
   "outputs": [
    {
     "data": {
      "text/plain": [
       "3rd    54.150800\n",
       "1st    24.523991\n",
       "2nd    21.325209\n",
       "Name: pclass, dtype: float64"
      ]
     },
     "execution_count": 6,
     "metadata": {},
     "output_type": "execute_result"
    }
   ],
   "source": [
    "# tabla de frecuencia relativa de pasajeros\n",
    "100 * titanic['pclass'].value_counts() / len(titanic['pclass'])"
   ]
  },
  {
   "cell_type": "markdown",
   "metadata": {
    "collapsed": true
   },
   "source": [
    "### Visualizaciones de los datos\n",
    "\n",
    "### Ahora que ya conocemos a las *tablas de [frecuencia](https://es.wikipedia.org/wiki/Frecuencia_estad%C3%ADstica)* ya estamos en condiciones de crear visualizaciones que realmente nos den una imagen de los datos\n",
    "\n",
    "#### Gráfico de barras\n",
    "\n",
    "### El [gráfico de barras](https://es.wikipedia.org/wiki/Diagrama_de_barras) nos ayuda a darnos una impresión visual más precisa de la distribución de nuestros [datos](https://es.wikipedia.org/wiki/Dato). La altura de cada barra muestra el recuento de su categoría. Los barras tienen el  mismo ancho, por lo que sus alturas determinan sus áreas, y estas áreas son proporcionales a los recuentos en cada categoría. De esta forma, podemos ver fácilmente que había más del doble de pasajeros de tercera clase, que de primera o segunda clase.Veamos como podemos crearlos de forma sencilla utilizando el método `plot` dentro de un `DataFrame` de [Pandas](http://pandas.pydata.org/). "
   ]
  },
  {
   "cell_type": "code",
   "execution_count": 7,
   "metadata": {
    "collapsed": false
   },
   "outputs": [
    {
     "data": {
      "image/png": "[encoded data removed]",
      "text/plain": [
       "<matplotlib.figure.Figure at 0x7f3956e4d278>"
      ]
     },
     "metadata": {},
     "output_type": "display_data"
    }
   ],
   "source": [
    "# Gráfico de barras de pasajeros del Titanic\n",
    "plot = titanic['pclass'].value_counts().plot(kind='bar', title='Pasajeros del Titanic')"
   ]
  },
  {
   "cell_type": "markdown",
   "metadata": {},
   "source": [
    "### Si quisiéramos enfocarnos en el porcentaje de los pasajeros de cada una de las clases, simplemente podemos sustituir a los recuentos con porcentajes y utilizar un *gráfico de barras de frecuencias relativas*."
   ]
  },
  {
   "cell_type": "code",
   "execution_count": 8,
   "metadata": {
    "collapsed": false
   },
   "outputs": [
    {
     "data": {
      "image/png": "[encoded data removed]",
      "text/plain": [
       "<matplotlib.figure.Figure at 0x7f3956ccdb70>"
      ]
     },
     "metadata": {},
     "output_type": "display_data"
    }
   ],
   "source": [
    "# gráfico de barras de frecuencias relativas con porcentajes\n",
    "plot = (100 * titanic['pclass'].value_counts() / len(titanic['pclass'])).plot(kind='bar', title='Pasajeros del Titanic %')"
   ]
  },
  {
   "cell_type": "markdown",
   "metadata": {},
   "source": [
    "#### Gráfico circular\n",
    "\n",
    "### El [gráfico circular](https://es.wikipedia.org/wiki/Gr%C3%A1fico_circular) muestra el total de casos como un círculo y luego corta este círculo en piezas cuyos tamaños son proporcionales a la fracción que cada categoría representa sobre el total de casos.Lo podríamos graficar del siguiente modo, también utilizando el método `plot`:"
   ]
  },
  {
   "cell_type": "code",
   "execution_count": 9,
   "metadata": {
    "collapsed": false
   },
   "outputs": [
    {
     "data": {
      "image/png": "[encoded data removed]",
      "text/plain": [
       "<matplotlib.figure.Figure at 0x7f3954f896a0>"
      ]
     },
     "metadata": {},
     "output_type": "display_data"
    }
   ],
   "source": [
    "# Gráfico de tarta de pasajeros del Titanic\n",
    "plot = titanic['pclass'].value_counts().plot(kind='pie', autopct='%.2f', figsize=(8, 8),title='Pasajeros del Titanic')"
   ]
  },
  {
   "cell_type": "markdown",
   "metadata": {},
   "source": [
    "### Relacionando variables categóricas\n",
    "\n",
    "### Una de las preguntas que podríamos hacer es ¿existe alguna relación entre la clase de pasajeros y la posibilidad de alcanzar un bote salvavidas y sobrevivir a la tragedia? Para poder responder a esta pregunta, vamos a necesitar analizar a las variables *pclass* y *survived* de nuestro [dataset](https://es.wikipedia.org/wiki/Conjunto_de_datos) en forma conjunta. Una buena forma de analizar dos [variables categóricas](https://en.wikipedia.org/wiki/Categorical_variable) en forma conjunta, es agrupar los recuentos en una tabla de *doble entrada*; este tipo de tablas se conocen en [estadística](http://relopezbriega.github.io/tag/estadistica.html) con el nombre de [tabla de contingencia](https://es.wikipedia.org/wiki/Tabla_de_contingencia). Veamos como podemos crear esta tabla utilizando la función `crosstab` de [Pandas](http://pandas.pydata.org/). "
   ]
  },
  {
   "cell_type": "code",
   "execution_count": 10,
   "metadata": {
    "collapsed": false
   },
   "outputs": [
    {
     "data": {
      "text/html": [
       "<div>\n",
       "<table border=\"1\" class=\"dataframe\">\n",
       "  <thead>\n",
       "    <tr style=\"text-align: right;\">\n",
       "      <th>pclass</th>\n",
       "      <th>1st</th>\n",
       "      <th>2nd</th>\n",
       "      <th>3rd</th>\n",
       "      <th>All</th>\n",
       "    </tr>\n",
       "    <tr>\n",
       "      <th>survived</th>\n",
       "      <th></th>\n",
       "      <th></th>\n",
       "      <th></th>\n",
       "      <th></th>\n",
       "    </tr>\n",
       "  </thead>\n",
       "  <tbody>\n",
       "    <tr>\n",
       "      <th>0</th>\n",
       "      <td>129</td>\n",
       "      <td>161</td>\n",
       "      <td>574</td>\n",
       "      <td>864</td>\n",
       "    </tr>\n",
       "    <tr>\n",
       "      <th>1</th>\n",
       "      <td>193</td>\n",
       "      <td>119</td>\n",
       "      <td>137</td>\n",
       "      <td>449</td>\n",
       "    </tr>\n",
       "    <tr>\n",
       "      <th>All</th>\n",
       "      <td>322</td>\n",
       "      <td>280</td>\n",
       "      <td>711</td>\n",
       "      <td>1313</td>\n",
       "    </tr>\n",
       "  </tbody>\n",
       "</table>\n",
       "</div>"
      ],
      "text/plain": [
       "pclass    1st  2nd  3rd   All\n",
       "survived                     \n",
       "0         129  161  574   864\n",
       "1         193  119  137   449\n",
       "All       322  280  711  1313"
      ]
     },
     "execution_count": 10,
     "metadata": {},
     "output_type": "execute_result"
    }
   ],
   "source": [
    "# Tabla de contingencia class / survived\n",
    "pd.crosstab(index=titanic['survived'],columns=titanic['pclass'], margins=True)"
   ]
  },
  {
   "cell_type": "markdown",
   "metadata": {},
   "source": [
    "### Los márgenes de la tabla, tanto en la derecha y como en la parte inferior, nos muestran los totales. La línea inferior de la tabla representa la distribución de [frecuencia](https://es.wikipedia.org/wiki/Frecuencia_estad%C3%ADstica) de la clase de pasajeros. La columna derecha de la tabla es la distribución de [frecuencia](https://es.wikipedia.org/wiki/Frecuencia_estad%C3%ADstica) de la variable supervivencia. \n",
    "\n",
    "### Cada celda nos va a mostrar el recuento para la combinación de los valores de nuestras dos [variables categóricas](https://en.wikipedia.org/wiki/Categorical_variable), en este caso *pclass* y *survived*.\n",
    "\n",
    "### Al igual de como habíamos visto con las *tablas de [frecuencia](https://es.wikipedia.org/wiki/Frecuencia_estad%C3%ADstica)*, también nos podría ser útil representar a las [tablas de contingencia](https://es.wikipedia.org/wiki/Tabla_de_contingencia) con porcentajes relativos; esto lo podríamos realizar utilizando el método `apply` del siguiente modo:"
   ]
  },
  {
   "cell_type": "code",
   "execution_count": 11,
   "metadata": {
    "collapsed": false
   },
   "outputs": [
    {
     "data": {
      "text/html": [
       "<div>\n",
       "<table border=\"1\" class=\"dataframe\">\n",
       "  <thead>\n",
       "    <tr style=\"text-align: right;\">\n",
       "      <th>pclass</th>\n",
       "      <th>1st</th>\n",
       "      <th>2nd</th>\n",
       "      <th>3rd</th>\n",
       "      <th>All</th>\n",
       "    </tr>\n",
       "    <tr>\n",
       "      <th>survived</th>\n",
       "      <th></th>\n",
       "      <th></th>\n",
       "      <th></th>\n",
       "      <th></th>\n",
       "    </tr>\n",
       "  </thead>\n",
       "  <tbody>\n",
       "    <tr>\n",
       "      <th>0</th>\n",
       "      <td>9.824829</td>\n",
       "      <td>12.261995</td>\n",
       "      <td>43.716679</td>\n",
       "      <td>65.803503</td>\n",
       "    </tr>\n",
       "    <tr>\n",
       "      <th>1</th>\n",
       "      <td>14.699162</td>\n",
       "      <td>9.063214</td>\n",
       "      <td>10.434120</td>\n",
       "      <td>34.196497</td>\n",
       "    </tr>\n",
       "    <tr>\n",
       "      <th>All</th>\n",
       "      <td>24.523991</td>\n",
       "      <td>21.325209</td>\n",
       "      <td>54.150800</td>\n",
       "      <td>100.000000</td>\n",
       "    </tr>\n",
       "  </tbody>\n",
       "</table>\n",
       "</div>"
      ],
      "text/plain": [
       "pclass          1st        2nd        3rd         All\n",
       "survived                                             \n",
       "0          9.824829  12.261995  43.716679   65.803503\n",
       "1         14.699162   9.063214  10.434120   34.196497\n",
       "All       24.523991  21.325209  54.150800  100.000000"
      ]
     },
     "execution_count": 11,
     "metadata": {},
     "output_type": "execute_result"
    }
   ],
   "source": [
    "# tabla de contingencia en porcentajes relativos total\n",
    "pd.crosstab(index=titanic['survived'], columns=titanic['pclass'],margins=True).apply(lambda r: r/len(titanic) *100,axis=1)"
   ]
  },
  {
   "cell_type": "markdown",
   "metadata": {},
   "source": [
    "### Con esta tabla podemos ver fácilmente que solo el 34.19% de los pasajeros sobrevivió y que este 34% se compone de la siguiente forma: del total de pasajeros sobrevivió un 14.69% de pasajeros que eran de primera clase, un 9% que eran de segunda clase y un 10.43% que eran pasajeros de tercera clase.\n",
    "\n",
    "### Volviendo a nuestra pregunta inicial sobre la posibilidad de sobrevivir según la clase de pasajero, podría ser más útil construir la tabla de porcentajes como un porcentaje relativo sobre el total de cada fila, es decir calcular el porcentaje relativo que cada clase tiene sobre haber sobrevivido o no. Esto lo podemos realizar del siguiente modo:"
   ]
  },
  {
   "cell_type": "code",
   "execution_count": null,
   "metadata": {
    "collapsed": false
   },
   "outputs": [],
   "source": []
  },
  {
   "cell_type": "markdown",
   "metadata": {},
   "source": [
    "### Aquí podemos ver que de los pasajeros que sobrevivieron a la tragedia, el 42.98% correspondían a primera clase, el 26.50% a segunda clase y el 30.51% a tercera clase. Por tanto podríamos concluir que los pasajeros de primera clase tenían más posibilidades de sobrevivir. \n",
    "\n",
    "### Como dato curioso podemos destacar hubo un porcentaje mayor que se salvó que eran de tercera clase "
   ]
  },
  {
   "cell_type": "code",
   "execution_count": 12,
   "metadata": {
    "collapsed": false
   },
   "outputs": [
    {
     "data": {
      "text/plain": [
       "<matplotlib.axes._subplots.AxesSubplot at 0x7f3954d64240>"
      ]
     },
     "execution_count": 12,
     "metadata": {},
     "output_type": "execute_result"
    },
    {
     "data": {
      "image/png": "[encoded data removed]",
      "text/plain": [
       "<matplotlib.figure.Figure at 0x7f3954f7fe80>"
      ]
     },
     "metadata": {},
     "output_type": "display_data"
    }
   ],
   "source": [
    "# # Gráfico de barras de sobrevivivientes segun clase\n",
    "pd.crosstab(index=titanic['survived'], columns=titanic['pclass']).apply(lambda r: r/r.sum() *100,axis=1).plot(kind='bar')"
   ]
  },
  {
   "cell_type": "code",
   "execution_count": 13,
   "metadata": {
    "collapsed": false
   },
   "outputs": [
    {
     "data": {
      "image/png": "[encoded data removed]",
      "text/plain": [
       "<matplotlib.figure.Figure at 0x7f3954e86cc0>"
      ]
     },
     "metadata": {},
     "output_type": "display_data"
    }
   ],
   "source": [
    "# Gráfico de barras de sobrevivivientes segun clase\n",
    "plot = pd.crosstab(index=titanic['pclass'],\n",
    "            columns=titanic['survived']).apply(lambda r: r/r.sum() *100,axis=1).plot(kind='bar')"
   ]
  },
  {
   "cell_type": "code",
   "execution_count": 14,
   "metadata": {
    "collapsed": false
   },
   "outputs": [
    {
     "data": {
      "image/png": "[encoded data removed]",
      "text/plain": [
       "<matplotlib.figure.Figure at 0x7f3954d2e6a0>"
      ]
     },
     "metadata": {},
     "output_type": "display_data"
    }
   ],
   "source": [
    "# Gráfico de barras de sobrevivivientes segun clase\n",
    "plot = pd.crosstab(index=titanic['survived'],\n",
    "            columns=titanic['pclass']).apply(lambda r: r/r.sum() *100,axis=0).plot(kind='bar', stacked=True)"
   ]
  }
 ],
 "metadata": {
  "kernelspec": {
   "display_name": "Python 3",
   "language": "python",
   "name": "python3"
  },
  "language_info": {
   "codemirror_mode": {
    "name": "ipython",
    "version": 3
   },
   "file_extension": ".py",
   "mimetype": "text/x-python",
   "name": "python",
   "nbconvert_exporter": "python",
   "pygments_lexer": "ipython3",
   "version": "3.6.0"
  }
 },
 "nbformat": 4,
 "nbformat_minor": 0
}
