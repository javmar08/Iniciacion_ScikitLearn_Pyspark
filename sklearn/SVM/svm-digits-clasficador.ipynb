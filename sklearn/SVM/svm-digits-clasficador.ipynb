{
 "cells": [
  {
   "cell_type": "code",
   "execution_count": 1,
   "metadata": {
    "collapsed": true
   },
   "outputs": [],
   "source": [
    "import matplotlib.pyplot as plt\n",
    "import numpy as np\n",
    "%matplotlib inline"
   ]
  },
  {
   "cell_type": "markdown",
   "metadata": {},
   "source": [
    "### Cargamos digits dataset"
   ]
  },
  {
   "cell_type": "markdown",
   "metadata": {},
   "source": [
    "#### El conjunto de datos de dígitos contiene 1797 imágenes que representan dígitos escritos a mano, junto con etiquetas numéricas que representan el número asociado con cada imagen. \n",
    "### digits.images es la matriz de imágenes, mientras que digits.target es la matriz de etiquetas."
   ]
  },
  {
   "cell_type": "code",
   "execution_count": 2,
   "metadata": {
    "collapsed": false
   },
   "outputs": [
    {
     "data": {
      "text/plain": [
       "dict_keys(['data', 'target', 'target_names', 'images', 'DESCR'])"
      ]
     },
     "execution_count": 2,
     "metadata": {},
     "output_type": "execute_result"
    }
   ],
   "source": [
    "from sklearn.datasets import load_digits\n",
    "digits = load_digits()\n",
    "digits.keys()"
   ]
  },
  {
   "cell_type": "code",
   "execution_count": 3,
   "metadata": {
    "collapsed": false
   },
   "outputs": [
    {
     "data": {
      "text/plain": [
       "(1797, 8, 8)"
      ]
     },
     "execution_count": 3,
     "metadata": {},
     "output_type": "execute_result"
    }
   ],
   "source": [
    "digits.images.shape"
   ]
  },
  {
   "cell_type": "code",
   "execution_count": 4,
   "metadata": {
    "collapsed": false
   },
   "outputs": [
    {
     "name": "stderr",
     "output_type": "stream",
     "text": [
      "/home/jmoc/anaconda3/lib/python3.6/site-packages/ipykernel/__main__.py:5: DeprecationWarning: This function is deprecated. Please call randint(0, 1797 + 1) instead\n"
     ]
    },
    {
     "data": {
      "image/png": "[encoded data removed]",
      "text/plain": [
       "<matplotlib.figure.Figure at 0x7f447bf52048>"
      ]
     },
     "metadata": {},
     "output_type": "display_data"
    },
    {
     "data": {
      "image/png": "[encoded data removed]",
      "text/plain": [
       "<matplotlib.figure.Figure at 0x7f447b9667b8>"
      ]
     },
     "metadata": {},
     "output_type": "display_data"
    },
    {
     "data": {
      "image/png": "[encoded data removed]",
      "text/plain": [
       "<matplotlib.figure.Figure at 0x7f447ba37470>"
      ]
     },
     "metadata": {},
     "output_type": "display_data"
    },
    {
     "data": {
      "image/png": "[encoded data removed]",
      "text/plain": [
       "<matplotlib.figure.Figure at 0x7f447ba2f5c0>"
      ]
     },
     "metadata": {},
     "output_type": "display_data"
    },
    {
     "data": {
      "image/png": "[encoded data removed]",
      "text/plain": [
       "<matplotlib.figure.Figure at 0x7f447b989e10>"
      ]
     },
     "metadata": {},
     "output_type": "display_data"
    },
    {
     "data": {
      "image/png": "[encoded data removed]",
      "text/plain": [
       "<matplotlib.figure.Figure at 0x7f447b8e5898>"
      ]
     },
     "metadata": {},
     "output_type": "display_data"
    },
    {
     "data": {
      "image/png": "[encoded data removed]",
      "text/plain": [
       "<matplotlib.figure.Figure at 0x7f4479afb198>"
      ]
     },
     "metadata": {},
     "output_type": "display_data"
    },
    {
     "data": {
      "image/png": "[encoded data removed]",
      "text/plain": [
       "<matplotlib.figure.Figure at 0x7f447b926c50>"
      ]
     },
     "metadata": {},
     "output_type": "display_data"
    },
    {
     "data": {
      "image/png": "[encoded data removed]",
      "text/plain": [
       "<matplotlib.figure.Figure at 0x7f4479a9c2b0>"
      ]
     },
     "metadata": {},
     "output_type": "display_data"
    },
    {
     "data": {
      "image/png": "[encoded data removed]",
      "text/plain": [
       "<matplotlib.figure.Figure at 0x7f447b9e51d0>"
      ]
     },
     "metadata": {},
     "output_type": "display_data"
    },
    {
     "data": {
      "image/png": "[encoded data removed]",
      "text/plain": [
       "<matplotlib.figure.Figure at 0x7f447b94f400>"
      ]
     },
     "metadata": {},
     "output_type": "display_data"
    },
    {
     "data": {
      "image/png": "[encoded data removed]",
      "text/plain": [
       "<matplotlib.figure.Figure at 0x7f447b8fc780>"
      ]
     },
     "metadata": {},
     "output_type": "display_data"
    },
    {
     "data": {
      "image/png": "[encoded data removed]",
      "text/plain": [
       "<matplotlib.figure.Figure at 0x7f447b9e97b8>"
      ]
     },
     "metadata": {},
     "output_type": "display_data"
    },
    {
     "data": {
      "image/png": "[encoded data removed]",
      "text/plain": [
       "<matplotlib.figure.Figure at 0x7f447b98cba8>"
      ]
     },
     "metadata": {},
     "output_type": "display_data"
    },
    {
     "data": {
      "image/png": "[encoded data removed]",
      "text/plain": [
       "<matplotlib.figure.Figure at 0x7f447b836be0>"
      ]
     },
     "metadata": {},
     "output_type": "display_data"
    },
    {
     "data": {
      "image/png": "[encoded data removed]",
      "text/plain": [
       "<matplotlib.figure.Figure at 0x7f44799b2b00>"
      ]
     },
     "metadata": {},
     "output_type": "display_data"
    },
    {
     "data": {
      "image/png": "[encoded data removed]",
      "text/plain": [
       "<matplotlib.figure.Figure at 0x7f44798f1ba8>"
      ]
     },
     "metadata": {},
     "output_type": "display_data"
    },
    {
     "data": {
      "image/png": "[encoded data removed]",
      "text/plain": [
       "<matplotlib.figure.Figure at 0x7f447989c4a8>"
      ]
     },
     "metadata": {},
     "output_type": "display_data"
    },
    {
     "data": {
      "image/png": "[encoded data removed]",
      "text/plain": [
       "<matplotlib.figure.Figure at 0x7f4479924358>"
      ]
     },
     "metadata": {},
     "output_type": "display_data"
    },
    {
     "data": {
      "image/png": "[encoded data removed]",
      "text/plain": [
       "<matplotlib.figure.Figure at 0x7f44799b2b70>"
      ]
     },
     "metadata": {},
     "output_type": "display_data"
    },
    {
     "data": {
      "image/png": "[encoded data removed]",
      "text/plain": [
       "<matplotlib.figure.Figure at 0x7f4479a12128>"
      ]
     },
     "metadata": {},
     "output_type": "display_data"
    },
    {
     "data": {
      "image/png": "[encoded data removed]",
      "text/plain": [
       "<matplotlib.figure.Figure at 0x7f447b95e9b0>"
      ]
     },
     "metadata": {},
     "output_type": "display_data"
    },
    {
     "data": {
      "image/png": "[encoded data removed]",
      "text/plain": [
       "<matplotlib.figure.Figure at 0x7f447ba933c8>"
      ]
     },
     "metadata": {},
     "output_type": "display_data"
    },
    {
     "data": {
      "image/png": "[encoded data removed]",
      "text/plain": [
       "<matplotlib.figure.Figure at 0x7f447bae6b38>"
      ]
     },
     "metadata": {},
     "output_type": "display_data"
    },
    {
     "data": {
      "image/png": "[encoded data removed]",
      "text/plain": [
       "<matplotlib.figure.Figure at 0x7f447ba53d68>"
      ]
     },
     "metadata": {},
     "output_type": "display_data"
    }
   ],
   "source": [
    "X = digits.data\n",
    "y = digits.target\n",
    "\n",
    "\n",
    "p = np.random.random_integers(0, len(X), 25)\n",
    "\n",
    "\n",
    "samples = np.array(list(zip(X, y)))[p]\n",
    "for index, (data, label) in enumerate(samples):\n",
    "    plt.subplot(5, 5, index + 1)\n",
    "    plt.axis('on')\n",
    "    plt.imshow(data.reshape(8, 8), cmap=plt.cm.gray_r, interpolation='nearest')\n",
    "    plt.title(label, color='red')\n",
    "    plt.show()"
   ]
  },
  {
   "cell_type": "markdown",
   "metadata": {},
   "source": [
    "### Cada elemento en la matriz digits.images es por sí solo una matriz 8 por 8 de píxeles, donde cada píxel es un entero entre 0 y 16. Veamos lo que la primera imagen, representada por un cero, se parece a:"
   ]
  },
  {
   "cell_type": "code",
   "execution_count": 5,
   "metadata": {
    "collapsed": false
   },
   "outputs": [
    {
     "name": "stdout",
     "output_type": "stream",
     "text": [
      "[[  0.   0.   5.  13.   9.   1.   0.   0.]\n",
      " [  0.   0.  13.  15.  10.  15.   5.   0.]\n",
      " [  0.   3.  15.   2.   0.  11.   8.   0.]\n",
      " [  0.   4.  12.   0.   0.   8.   8.   0.]\n",
      " [  0.   5.   8.   0.   0.   9.   8.   0.]\n",
      " [  0.   4.  11.   0.   1.  12.   7.   0.]\n",
      " [  0.   2.  14.   5.  10.  12.   0.   0.]\n",
      " [  0.   0.   6.  13.  10.   0.   0.   0.]]\n"
     ]
    }
   ],
   "source": [
    "print(digits.images[0])"
   ]
  },
  {
   "cell_type": "code",
   "execution_count": 6,
   "metadata": {
    "collapsed": false
   },
   "outputs": [
    {
     "data": {
      "text/plain": [
       "<matplotlib.image.AxesImage at 0x7f4479a5ce48>"
      ]
     },
     "execution_count": 6,
     "metadata": {},
     "output_type": "execute_result"
    },
    {
     "data": {
      "image/png": "[encoded data removed]",
      "text/plain": [
       "<matplotlib.figure.Figure at 0x7f44a84636d8>"
      ]
     },
     "metadata": {},
     "output_type": "display_data"
    }
   ],
   "source": [
    "plt.matshow(digits.images[0], cmap=plt.cm.Greys)"
   ]
  },
  {
   "cell_type": "markdown",
   "metadata": {},
   "source": [
    "### Data es un array de numpy de tamaño (n_samples, n_features)"
   ]
  },
  {
   "cell_type": "code",
   "execution_count": 7,
   "metadata": {
    "collapsed": false
   },
   "outputs": [
    {
     "data": {
      "text/plain": [
       "(1797, 64)"
      ]
     },
     "execution_count": 7,
     "metadata": {},
     "output_type": "execute_result"
    }
   ],
   "source": [
    "digits.data.shape"
   ]
  },
  {
   "cell_type": "code",
   "execution_count": 8,
   "metadata": {
    "collapsed": false
   },
   "outputs": [
    {
     "data": {
      "text/plain": [
       "(1797,)"
      ]
     },
     "execution_count": 8,
     "metadata": {},
     "output_type": "execute_result"
    }
   ],
   "source": [
    "digits.target.shape"
   ]
  },
  {
   "cell_type": "code",
   "execution_count": 9,
   "metadata": {
    "collapsed": false
   },
   "outputs": [
    {
     "data": {
      "text/plain": [
       "array([0, 1, 2, ..., 8, 9, 8])"
      ]
     },
     "execution_count": 9,
     "metadata": {},
     "output_type": "execute_result"
    }
   ],
   "source": [
    "digits.target"
   ]
  },
  {
   "cell_type": "markdown",
   "metadata": {},
   "source": [
    "### Dividir entre datos entrenamiento y test"
   ]
  },
  {
   "cell_type": "code",
   "execution_count": 10,
   "metadata": {
    "collapsed": false
   },
   "outputs": [],
   "source": [
    "from sklearn.model_selection import train_test_split\n",
    "X_train, X_test, y_train, y_test = train_test_split(digits.data, digits.target)"
   ]
  },
  {
   "cell_type": "markdown",
   "metadata": {},
   "source": [
    "### 1) Importar el modelo"
   ]
  },
  {
   "cell_type": "code",
   "execution_count": 11,
   "metadata": {
    "collapsed": false
   },
   "outputs": [],
   "source": [
    "from sklearn.svm import LinearSVC,SVC"
   ]
  },
  {
   "cell_type": "markdown",
   "metadata": {},
   "source": [
    "### 2) Instanciar objeto con parámetros necesarios"
   ]
  },
  {
   "cell_type": "code",
   "execution_count": 12,
   "metadata": {
    "collapsed": false
   },
   "outputs": [],
   "source": [
    "svm = SVC(C=10,gamma=0.001)"
   ]
  },
  {
   "cell_type": "markdown",
   "metadata": {},
   "source": [
    "### 3) Entrenar el modelo"
   ]
  },
  {
   "cell_type": "code",
   "execution_count": 13,
   "metadata": {
    "collapsed": false
   },
   "outputs": [
    {
     "data": {
      "text/plain": [
       "SVC(C=10, cache_size=200, class_weight=None, coef0=0.0,\n",
       "  decision_function_shape=None, degree=3, gamma=0.001, kernel='rbf',\n",
       "  max_iter=-1, probability=False, random_state=None, shrinking=True,\n",
       "  tol=0.001, verbose=False)"
      ]
     },
     "execution_count": 13,
     "metadata": {},
     "output_type": "execute_result"
    }
   ],
   "source": [
    "svm.fit(X_train, y_train)"
   ]
  },
  {
   "cell_type": "markdown",
   "metadata": {},
   "source": [
    "### 4) Predecir"
   ]
  },
  {
   "cell_type": "code",
   "execution_count": 14,
   "metadata": {
    "collapsed": false
   },
   "outputs": [
    {
     "name": "stdout",
     "output_type": "stream",
     "text": [
      "[5 8 2 ..., 7 0 5]\n"
     ]
    }
   ],
   "source": [
    "print(svm.predict(X_train))"
   ]
  },
  {
   "cell_type": "code",
   "execution_count": 15,
   "metadata": {
    "collapsed": false
   },
   "outputs": [
    {
     "name": "stdout",
     "output_type": "stream",
     "text": [
      "[5 8 2 ..., 7 0 5]\n"
     ]
    }
   ],
   "source": [
    "print(y_train)"
   ]
  },
  {
   "cell_type": "code",
   "execution_count": 16,
   "metadata": {
    "collapsed": false
   },
   "outputs": [
    {
     "name": "stdout",
     "output_type": "stream",
     "text": [
      "[7 6 1 6 7 1 4 9 4 6 0 1 1 6 5 9 5 2 5 6 7 2 1 0 7 6 3 5 5 4 3 7 8 7 3 8 3\n",
      " 5 4 8 3 4 7 5 4 3 5 9 6 2 6 7 5 0 8 9 9 2 2 1 8 6 2 2 5 0 9 6 8 5 9 8 4 3\n",
      " 4 0 0 0 5 6 9 2 8 0 3 6 5 9 2 7 1 6 0 8 9 5 6 0 2 5 8 1 9 4 5 4 3 3 3 1 9\n",
      " 3 1 7 4 0 0 7 6 5 1 4 3 0 0 6 4 7 3 0 4 3 6 1 4 1 7 2 7 1 9 3 5 0 1 5 3 2\n",
      " 1 2 1 6 6 2 6 8 8 9 3 1 5 9 0 7 3 5 0 7 4 4 1 7 3 2 5 4 4 9 3 4 1 6 6 4 7\n",
      " 5 5 7 2 9 4 7 1 7 7 8 1 2 6 2 2 7 9 8 8 4 8 6 9 3 1 3 3 5 6 7 9 8 4 9 0 8\n",
      " 9 8 4 6 0 9 7 1 1 9 6 9 9 3 2 5 8 1 2 6 4 5 5 4 4 0 4 9 8 0 9 7 7 6 3 6 1\n",
      " 9 4 0 9 3 5 2 5 6 9 9 9 1 4 2 1 2 2 7 5 6 6 4 9 2 6 0 0 2 4 8 7 5 3 6 5 2\n",
      " 3 4 2 6 9 4 9 8 9 5 9 8 2 4 9 5 9 8 8 9 6 0 4 6 1 3 3 1 0 0 8 0 0 4 6 2 4\n",
      " 5 1 1 9 6 9 0 1 6 4 9 1 4 4 5 6 3 2 9 6 2 9 4 7 5 8 7 1 4 4 8 4 2 6 0 8 9\n",
      " 0 2 1 0 4 6 2 8 4 2 0 4 6 9 6 6 9 6 7 7 1 9 7 3 0 2 9 2 9 0 1 2 5 6 3 0 7\n",
      " 7 8 3 1 9 6 5 4 3 2 7 1 3 8 4 9 2 7 1 6 3 0 2 4 2 5 9 1 2 1 2 8 1 8 8 0 1\n",
      " 8 4 5 5 1 8]\n"
     ]
    }
   ],
   "source": [
    "print(svm.predict(X_test))"
   ]
  },
  {
   "cell_type": "code",
   "execution_count": 17,
   "metadata": {
    "collapsed": false
   },
   "outputs": [
    {
     "name": "stdout",
     "output_type": "stream",
     "text": [
      "[7 6 1 6 7 1 4 9 4 6 0 1 1 6 5 9 5 2 5 6 7 2 1 0 7 6 3 5 5 4 3 7 8 7 3 8 3\n",
      " 5 4 8 3 4 7 5 4 3 5 9 6 2 6 7 5 0 8 9 9 2 2 1 8 6 2 2 5 0 9 6 8 5 9 8 4 3\n",
      " 4 0 0 0 5 6 9 2 8 0 3 6 5 9 2 7 1 6 0 8 9 5 6 0 2 5 8 1 9 4 5 4 3 3 3 1 9\n",
      " 3 1 7 4 0 0 7 6 5 1 4 3 0 0 6 4 7 3 0 4 3 6 1 4 1 7 2 7 1 9 3 5 0 1 5 3 2\n",
      " 1 2 1 6 6 2 6 8 8 9 3 1 5 9 0 7 3 5 0 7 4 4 1 7 3 2 5 4 4 9 3 4 1 6 6 4 7\n",
      " 5 5 7 2 9 4 7 1 7 7 8 1 2 6 2 2 7 9 8 8 4 8 6 9 3 1 3 3 5 6 7 9 8 4 9 0 8\n",
      " 9 8 4 6 0 9 7 1 1 9 6 9 9 3 2 5 8 1 2 6 4 5 5 4 4 0 4 9 8 0 9 7 7 6 3 6 1\n",
      " 9 4 0 9 3 9 2 5 6 9 9 9 1 4 2 1 2 2 7 5 6 6 4 9 2 6 0 0 2 4 8 7 5 3 6 5 2\n",
      " 9 4 2 6 9 4 9 8 9 5 9 8 2 4 9 5 9 8 8 9 6 0 4 6 1 3 3 1 0 0 8 0 0 4 6 2 4\n",
      " 5 1 1 9 6 9 0 1 6 4 9 1 4 4 5 6 3 2 9 6 2 9 4 7 5 8 7 1 4 4 9 4 2 6 0 8 9\n",
      " 0 2 1 0 4 6 2 8 4 2 0 4 6 9 6 6 9 6 7 7 1 9 7 3 0 2 9 2 9 0 1 2 5 6 3 0 7\n",
      " 7 8 3 1 9 6 5 4 3 2 7 1 3 8 4 9 2 7 1 6 3 0 2 4 2 5 9 1 2 1 2 8 1 8 8 0 8\n",
      " 8 4 5 5 1 8]\n"
     ]
    }
   ],
   "source": [
    "print(y_test)"
   ]
  },
  {
   "cell_type": "markdown",
   "metadata": {},
   "source": [
    "### 5) Evaluar contra los datos de entrenamiento y test"
   ]
  },
  {
   "cell_type": "code",
   "execution_count": 18,
   "metadata": {
    "collapsed": false
   },
   "outputs": [
    {
     "data": {
      "text/plain": [
       "1.0"
      ]
     },
     "execution_count": 18,
     "metadata": {},
     "output_type": "execute_result"
    }
   ],
   "source": [
    "svm.score(X_train, y_train)"
   ]
  },
  {
   "cell_type": "code",
   "execution_count": 19,
   "metadata": {
    "collapsed": false
   },
   "outputs": [
    {
     "data": {
      "text/plain": [
       "0.99111111111111116"
      ]
     },
     "execution_count": 19,
     "metadata": {},
     "output_type": "execute_result"
    }
   ],
   "source": [
    "svm.score(X_test, y_test)"
   ]
  },
  {
   "cell_type": "markdown",
   "metadata": {},
   "source": [
    "### 6) Optimizar los valores de C y gamma\n",
    "### Grid Search\n",
    "### Si vemos los parámetros del constructor de la clase SVC, tenemos como  parámetros C y gamma, que también pueden afectar el rendimiento del clasificador. Si sólo ajustamos el valor gamma, implícitamente declaramos que el valor C óptimo es 1,0 (el valor predeterminado). Tal vez podríamos obtener mejores resultados con una nueva combinación de valores de C y gamma. Lo ideal sería probar todas las combinaciones de parámetros y mantener la mejor.\n",
    "\n",
    "### Con GridSearchCV, podemos especificar una cuadrícula de cualquier número de parámetros y valores de parámetros a recorrer. Entrenará el clasificador para cada combinación y obtendrá una precisión de validación cruzada para evaluar cada una."
   ]
  },
  {
   "cell_type": "code",
   "execution_count": 20,
   "metadata": {
    "collapsed": false
   },
   "outputs": [
    {
     "name": "stderr",
     "output_type": "stream",
     "text": [
      "/home/jmoc/anaconda3/lib/python3.6/site-packages/sklearn/cross_validation.py:44: DeprecationWarning: This module was deprecated in version 0.18 in favor of the model_selection module into which all the refactored classes and functions are moved. Also note that the interface of the new CV iterators are different from that of this module. This module will be removed in 0.20.\n",
      "  \"This module will be removed in 0.20.\", DeprecationWarning)\n",
      "/home/jmoc/anaconda3/lib/python3.6/site-packages/sklearn/grid_search.py:43: DeprecationWarning: This module was deprecated in version 0.18 in favor of the model_selection module into which all the refactored classes and functions are moved. This module will be removed in 0.20.\n",
      "  DeprecationWarning)\n"
     ]
    }
   ],
   "source": [
    "Cs = [0.001, 0.01, 0.1, 1, 10, 100]\n",
    "gammas = [0.001, 0.01, 0.1, 1, 10, 100]\n",
    "\n",
    "from sklearn.grid_search import GridSearchCV\n",
    "\n",
    "param_grid = {'C': Cs, 'gamma' : gammas}\n",
    "grid_search = GridSearchCV(SVC(), param_grid, cv=5, verbose=2)"
   ]
  },
  {
   "cell_type": "markdown",
   "metadata": {},
   "source": [
    "### Ejecutarmos el metodo fit para entrenar y obtenemos puntuaciones y los mejores valores de parámetros"
   ]
  },
  {
   "cell_type": "code",
   "execution_count": 21,
   "metadata": {
    "collapsed": false
   },
   "outputs": [
    {
     "name": "stdout",
     "output_type": "stream",
     "text": [
      "Fitting 5 folds for each of 36 candidates, totalling 180 fits\n",
      "[CV] C=0.001, gamma=0.001 ............................................\n",
      "[CV] ................................... C=0.001, gamma=0.001 -   0.4s\n",
      "[CV] C=0.001, gamma=0.001 ............................................\n"
     ]
    },
    {
     "name": "stderr",
     "output_type": "stream",
     "text": [
      "[Parallel(n_jobs=1)]: Done   1 out of   1 | elapsed:    0.4s remaining:    0.0s\n"
     ]
    },
    {
     "name": "stdout",
     "output_type": "stream",
     "text": [
      "[CV] ................................... C=0.001, gamma=0.001 -   0.4s\n",
      "[CV] C=0.001, gamma=0.001 ............................................\n",
      "[CV] ................................... C=0.001, gamma=0.001 -   0.4s\n",
      "[CV] C=0.001, gamma=0.001 ............................................\n",
      "[CV] ................................... C=0.001, gamma=0.001 -   0.4s\n",
      "[CV] C=0.001, gamma=0.001 ............................................\n",
      "[CV] ................................... C=0.001, gamma=0.001 -   0.4s\n",
      "[CV] C=0.001, gamma=0.01 .............................................\n",
      "[CV] .................................... C=0.001, gamma=0.01 -   0.4s\n",
      "[CV] C=0.001, gamma=0.01 .............................................\n",
      "[CV] .................................... C=0.001, gamma=0.01 -   0.4s\n",
      "[CV] C=0.001, gamma=0.01 .............................................\n",
      "[CV] .................................... C=0.001, gamma=0.01 -   0.4s\n",
      "[CV] C=0.001, gamma=0.01 .............................................\n",
      "[CV] .................................... C=0.001, gamma=0.01 -   0.4s\n",
      "[CV] C=0.001, gamma=0.01 .............................................\n",
      "[CV] .................................... C=0.001, gamma=0.01 -   0.4s\n",
      "[CV] C=0.001, gamma=0.1 ..............................................\n",
      "[CV] ..................................... C=0.001, gamma=0.1 -   0.4s\n",
      "[CV] C=0.001, gamma=0.1 ..............................................\n",
      "[CV] ..................................... C=0.001, gamma=0.1 -   0.4s\n",
      "[CV] C=0.001, gamma=0.1 ..............................................\n",
      "[CV] ..................................... C=0.001, gamma=0.1 -   0.4s\n",
      "[CV] C=0.001, gamma=0.1 ..............................................\n",
      "[CV] ..................................... C=0.001, gamma=0.1 -   0.4s\n",
      "[CV] C=0.001, gamma=0.1 ..............................................\n",
      "[CV] ..................................... C=0.001, gamma=0.1 -   0.4s\n",
      "[CV] C=0.001, gamma=1 ................................................\n",
      "[CV] ....................................... C=0.001, gamma=1 -   0.5s\n",
      "[CV] C=0.001, gamma=1 ................................................\n",
      "[CV] ....................................... C=0.001, gamma=1 -   0.5s\n",
      "[CV] C=0.001, gamma=1 ................................................\n",
      "[CV] ....................................... C=0.001, gamma=1 -   0.5s\n",
      "[CV] C=0.001, gamma=1 ................................................\n",
      "[CV] ....................................... C=0.001, gamma=1 -   0.5s\n",
      "[CV] C=0.001, gamma=1 ................................................\n",
      "[CV] ....................................... C=0.001, gamma=1 -   0.5s\n",
      "[CV] C=0.001, gamma=10 ...............................................\n",
      "[CV] ...................................... C=0.001, gamma=10 -   0.5s\n",
      "[CV] C=0.001, gamma=10 ...............................................\n",
      "[CV] ...................................... C=0.001, gamma=10 -   0.5s\n",
      "[CV] C=0.001, gamma=10 ...............................................\n",
      "[CV] ...................................... C=0.001, gamma=10 -   0.5s\n",
      "[CV] C=0.001, gamma=10 ...............................................\n",
      "[CV] ...................................... C=0.001, gamma=10 -   0.5s\n",
      "[CV] C=0.001, gamma=10 ...............................................\n",
      "[CV] ...................................... C=0.001, gamma=10 -   0.5s\n",
      "[CV] C=0.001, gamma=100 ..............................................\n",
      "[CV] ..................................... C=0.001, gamma=100 -   0.5s\n",
      "[CV] C=0.001, gamma=100 ..............................................\n",
      "[CV] ..................................... C=0.001, gamma=100 -   0.5s\n",
      "[CV] C=0.001, gamma=100 ..............................................\n",
      "[CV] ..................................... C=0.001, gamma=100 -   0.5s\n",
      "[CV] C=0.001, gamma=100 ..............................................\n",
      "[CV] ..................................... C=0.001, gamma=100 -   0.5s\n",
      "[CV] C=0.001, gamma=100 ..............................................\n",
      "[CV] ..................................... C=0.001, gamma=100 -   0.5s\n",
      "[CV] C=0.01, gamma=0.001 .............................................\n",
      "[CV] .................................... C=0.01, gamma=0.001 -   0.4s\n",
      "[CV] C=0.01, gamma=0.001 .............................................\n",
      "[CV] .................................... C=0.01, gamma=0.001 -   0.4s\n",
      "[CV] C=0.01, gamma=0.001 .............................................\n",
      "[CV] .................................... C=0.01, gamma=0.001 -   0.4s\n",
      "[CV] C=0.01, gamma=0.001 .............................................\n",
      "[CV] .................................... C=0.01, gamma=0.001 -   0.4s\n",
      "[CV] C=0.01, gamma=0.001 .............................................\n",
      "[CV] .................................... C=0.01, gamma=0.001 -   0.4s\n",
      "[CV] C=0.01, gamma=0.01 ..............................................\n",
      "[CV] ..................................... C=0.01, gamma=0.01 -   0.4s\n",
      "[CV] C=0.01, gamma=0.01 ..............................................\n",
      "[CV] ..................................... C=0.01, gamma=0.01 -   0.4s\n",
      "[CV] C=0.01, gamma=0.01 ..............................................\n",
      "[CV] ..................................... C=0.01, gamma=0.01 -   0.4s\n",
      "[CV] C=0.01, gamma=0.01 ..............................................\n",
      "[CV] ..................................... C=0.01, gamma=0.01 -   0.4s\n",
      "[CV] C=0.01, gamma=0.01 ..............................................\n",
      "[CV] ..................................... C=0.01, gamma=0.01 -   0.4s\n",
      "[CV] C=0.01, gamma=0.1 ...............................................\n",
      "[CV] ...................................... C=0.01, gamma=0.1 -   0.4s\n",
      "[CV] C=0.01, gamma=0.1 ...............................................\n",
      "[CV] ...................................... C=0.01, gamma=0.1 -   0.4s\n",
      "[CV] C=0.01, gamma=0.1 ...............................................\n",
      "[CV] ...................................... C=0.01, gamma=0.1 -   0.4s\n",
      "[CV] C=0.01, gamma=0.1 ...............................................\n",
      "[CV] ...................................... C=0.01, gamma=0.1 -   0.4s\n",
      "[CV] C=0.01, gamma=0.1 ...............................................\n",
      "[CV] ...................................... C=0.01, gamma=0.1 -   0.4s\n",
      "[CV] C=0.01, gamma=1 .................................................\n",
      "[CV] ........................................ C=0.01, gamma=1 -   0.5s\n",
      "[CV] C=0.01, gamma=1 .................................................\n",
      "[CV] ........................................ C=0.01, gamma=1 -   0.5s\n",
      "[CV] C=0.01, gamma=1 .................................................\n",
      "[CV] ........................................ C=0.01, gamma=1 -   0.5s\n",
      "[CV] C=0.01, gamma=1 .................................................\n",
      "[CV] ........................................ C=0.01, gamma=1 -   0.5s\n",
      "[CV] C=0.01, gamma=1 .................................................\n",
      "[CV] ........................................ C=0.01, gamma=1 -   0.5s\n",
      "[CV] C=0.01, gamma=10 ................................................\n",
      "[CV] ....................................... C=0.01, gamma=10 -   0.5s\n",
      "[CV] C=0.01, gamma=10 ................................................\n",
      "[CV] ....................................... C=0.01, gamma=10 -   0.5s\n",
      "[CV] C=0.01, gamma=10 ................................................\n",
      "[CV] ....................................... C=0.01, gamma=10 -   0.5s\n",
      "[CV] C=0.01, gamma=10 ................................................\n",
      "[CV] ....................................... C=0.01, gamma=10 -   0.5s\n",
      "[CV] C=0.01, gamma=10 ................................................\n",
      "[CV] ....................................... C=0.01, gamma=10 -   0.5s\n",
      "[CV] C=0.01, gamma=100 ...............................................\n",
      "[CV] ...................................... C=0.01, gamma=100 -   0.5s\n",
      "[CV] C=0.01, gamma=100 ...............................................\n",
      "[CV] ...................................... C=0.01, gamma=100 -   0.5s\n",
      "[CV] C=0.01, gamma=100 ...............................................\n",
      "[CV] ...................................... C=0.01, gamma=100 -   0.5s\n",
      "[CV] C=0.01, gamma=100 ...............................................\n",
      "[CV] ...................................... C=0.01, gamma=100 -   0.5s\n",
      "[CV] C=0.01, gamma=100 ...............................................\n",
      "[CV] ...................................... C=0.01, gamma=100 -   0.5s\n",
      "[CV] C=0.1, gamma=0.001 ..............................................\n",
      "[CV] ..................................... C=0.1, gamma=0.001 -   0.2s\n",
      "[CV] C=0.1, gamma=0.001 ..............................................\n",
      "[CV] ..................................... C=0.1, gamma=0.001 -   0.2s\n",
      "[CV] C=0.1, gamma=0.001 ..............................................\n",
      "[CV] ..................................... C=0.1, gamma=0.001 -   0.2s\n",
      "[CV] C=0.1, gamma=0.001 ..............................................\n",
      "[CV] ..................................... C=0.1, gamma=0.001 -   0.2s\n",
      "[CV] C=0.1, gamma=0.001 ..............................................\n",
      "[CV] ..................................... C=0.1, gamma=0.001 -   0.2s\n",
      "[CV] C=0.1, gamma=0.01 ...............................................\n",
      "[CV] ...................................... C=0.1, gamma=0.01 -   0.4s\n",
      "[CV] C=0.1, gamma=0.01 ...............................................\n",
      "[CV] ...................................... C=0.1, gamma=0.01 -   0.4s\n",
      "[CV] C=0.1, gamma=0.01 ...............................................\n",
      "[CV] ...................................... C=0.1, gamma=0.01 -   0.4s\n",
      "[CV] C=0.1, gamma=0.01 ...............................................\n",
      "[CV] ...................................... C=0.1, gamma=0.01 -   0.4s\n",
      "[CV] C=0.1, gamma=0.01 ...............................................\n",
      "[CV] ...................................... C=0.1, gamma=0.01 -   0.4s\n",
      "[CV] C=0.1, gamma=0.1 ................................................\n",
      "[CV] ....................................... C=0.1, gamma=0.1 -   0.4s\n",
      "[CV] C=0.1, gamma=0.1 ................................................\n",
      "[CV] ....................................... C=0.1, gamma=0.1 -   0.4s\n",
      "[CV] C=0.1, gamma=0.1 ................................................\n",
      "[CV] ....................................... C=0.1, gamma=0.1 -   0.4s\n",
      "[CV] C=0.1, gamma=0.1 ................................................\n",
      "[CV] ....................................... C=0.1, gamma=0.1 -   0.4s\n",
      "[CV] C=0.1, gamma=0.1 ................................................\n",
      "[CV] ....................................... C=0.1, gamma=0.1 -   0.4s\n",
      "[CV] C=0.1, gamma=1 ..................................................\n",
      "[CV] ......................................... C=0.1, gamma=1 -   0.5s\n",
      "[CV] C=0.1, gamma=1 ..................................................\n",
      "[CV] ......................................... C=0.1, gamma=1 -   0.5s\n",
      "[CV] C=0.1, gamma=1 ..................................................\n",
      "[CV] ......................................... C=0.1, gamma=1 -   0.5s\n",
      "[CV] C=0.1, gamma=1 ..................................................\n",
      "[CV] ......................................... C=0.1, gamma=1 -   0.5s\n",
      "[CV] C=0.1, gamma=1 ..................................................\n",
      "[CV] ......................................... C=0.1, gamma=1 -   0.5s\n",
      "[CV] C=0.1, gamma=10 .................................................\n",
      "[CV] ........................................ C=0.1, gamma=10 -   0.5s\n",
      "[CV] C=0.1, gamma=10 .................................................\n",
      "[CV] ........................................ C=0.1, gamma=10 -   0.5s\n",
      "[CV] C=0.1, gamma=10 .................................................\n",
      "[CV] ........................................ C=0.1, gamma=10 -   0.5s\n",
      "[CV] C=0.1, gamma=10 .................................................\n",
      "[CV] ........................................ C=0.1, gamma=10 -   0.5s\n",
      "[CV] C=0.1, gamma=10 .................................................\n",
      "[CV] ........................................ C=0.1, gamma=10 -   0.5s\n",
      "[CV] C=0.1, gamma=100 ................................................\n",
      "[CV] ....................................... C=0.1, gamma=100 -   0.5s\n",
      "[CV] C=0.1, gamma=100 ................................................\n",
      "[CV] ....................................... C=0.1, gamma=100 -   0.5s\n",
      "[CV] C=0.1, gamma=100 ................................................\n",
      "[CV] ....................................... C=0.1, gamma=100 -   0.5s\n",
      "[CV] C=0.1, gamma=100 ................................................\n",
      "[CV] ....................................... C=0.1, gamma=100 -   0.5s\n",
      "[CV] C=0.1, gamma=100 ................................................\n",
      "[CV] ....................................... C=0.1, gamma=100 -   0.5s\n",
      "[CV] C=1, gamma=0.001 ................................................\n",
      "[CV] ....................................... C=1, gamma=0.001 -   0.1s\n",
      "[CV] C=1, gamma=0.001 ................................................\n",
      "[CV] ....................................... C=1, gamma=0.001 -   0.1s\n",
      "[CV] C=1, gamma=0.001 ................................................\n",
      "[CV] ....................................... C=1, gamma=0.001 -   0.1s\n",
      "[CV] C=1, gamma=0.001 ................................................\n",
      "[CV] ....................................... C=1, gamma=0.001 -   0.1s\n",
      "[CV] C=1, gamma=0.001 ................................................\n",
      "[CV] ....................................... C=1, gamma=0.001 -   0.1s\n",
      "[CV] C=1, gamma=0.01 .................................................\n",
      "[CV] ........................................ C=1, gamma=0.01 -   0.4s\n",
      "[CV] C=1, gamma=0.01 .................................................\n",
      "[CV] ........................................ C=1, gamma=0.01 -   0.4s\n",
      "[CV] C=1, gamma=0.01 .................................................\n",
      "[CV] ........................................ C=1, gamma=0.01 -   0.4s\n",
      "[CV] C=1, gamma=0.01 .................................................\n",
      "[CV] ........................................ C=1, gamma=0.01 -   0.4s\n",
      "[CV] C=1, gamma=0.01 .................................................\n",
      "[CV] ........................................ C=1, gamma=0.01 -   0.4s\n",
      "[CV] C=1, gamma=0.1 ..................................................\n",
      "[CV] ......................................... C=1, gamma=0.1 -   0.4s\n",
      "[CV] C=1, gamma=0.1 ..................................................\n",
      "[CV] ......................................... C=1, gamma=0.1 -   0.4s\n",
      "[CV] C=1, gamma=0.1 ..................................................\n",
      "[CV] ......................................... C=1, gamma=0.1 -   0.4s\n",
      "[CV] C=1, gamma=0.1 ..................................................\n",
      "[CV] ......................................... C=1, gamma=0.1 -   0.4s\n",
      "[CV] C=1, gamma=0.1 ..................................................\n",
      "[CV] ......................................... C=1, gamma=0.1 -   0.4s\n",
      "[CV] C=1, gamma=1 ....................................................\n",
      "[CV] ........................................... C=1, gamma=1 -   0.5s\n",
      "[CV] C=1, gamma=1 ....................................................\n",
      "[CV] ........................................... C=1, gamma=1 -   0.5s\n",
      "[CV] C=1, gamma=1 ....................................................\n",
      "[CV] ........................................... C=1, gamma=1 -   0.5s\n",
      "[CV] C=1, gamma=1 ....................................................\n",
      "[CV] ........................................... C=1, gamma=1 -   0.5s\n",
      "[CV] C=1, gamma=1 ....................................................\n",
      "[CV] ........................................... C=1, gamma=1 -   0.5s\n",
      "[CV] C=1, gamma=10 ...................................................\n",
      "[CV] .......................................... C=1, gamma=10 -   0.5s\n",
      "[CV] C=1, gamma=10 ...................................................\n",
      "[CV] .......................................... C=1, gamma=10 -   0.5s\n",
      "[CV] C=1, gamma=10 ...................................................\n",
      "[CV] .......................................... C=1, gamma=10 -   0.5s\n",
      "[CV] C=1, gamma=10 ...................................................\n",
      "[CV] .......................................... C=1, gamma=10 -   0.5s\n",
      "[CV] C=1, gamma=10 ...................................................\n",
      "[CV] .......................................... C=1, gamma=10 -   0.5s\n",
      "[CV] C=1, gamma=100 ..................................................\n",
      "[CV] ......................................... C=1, gamma=100 -   0.5s\n",
      "[CV] C=1, gamma=100 ..................................................\n",
      "[CV] ......................................... C=1, gamma=100 -   0.5s\n",
      "[CV] C=1, gamma=100 ..................................................\n",
      "[CV] ......................................... C=1, gamma=100 -   0.5s\n",
      "[CV] C=1, gamma=100 ..................................................\n",
      "[CV] ......................................... C=1, gamma=100 -   0.5s\n",
      "[CV] C=1, gamma=100 ..................................................\n",
      "[CV] ......................................... C=1, gamma=100 -   0.5s\n",
      "[CV] C=10, gamma=0.001 ...............................................\n",
      "[CV] ...................................... C=10, gamma=0.001 -   0.1s\n",
      "[CV] C=10, gamma=0.001 ...............................................\n",
      "[CV] ...................................... C=10, gamma=0.001 -   0.1s\n",
      "[CV] C=10, gamma=0.001 ...............................................\n",
      "[CV] ...................................... C=10, gamma=0.001 -   0.1s\n",
      "[CV] C=10, gamma=0.001 ...............................................\n",
      "[CV] ...................................... C=10, gamma=0.001 -   0.1s\n",
      "[CV] C=10, gamma=0.001 ...............................................\n",
      "[CV] ...................................... C=10, gamma=0.001 -   0.1s\n",
      "[CV] C=10, gamma=0.01 ................................................\n",
      "[CV] ....................................... C=10, gamma=0.01 -   0.4s\n",
      "[CV] C=10, gamma=0.01 ................................................\n",
      "[CV] ....................................... C=10, gamma=0.01 -   0.4s\n",
      "[CV] C=10, gamma=0.01 ................................................\n",
      "[CV] ....................................... C=10, gamma=0.01 -   0.4s\n",
      "[CV] C=10, gamma=0.01 ................................................\n",
      "[CV] ....................................... C=10, gamma=0.01 -   0.4s\n",
      "[CV] C=10, gamma=0.01 ................................................\n",
      "[CV] ....................................... C=10, gamma=0.01 -   0.4s\n",
      "[CV] C=10, gamma=0.1 .................................................\n",
      "[CV] ........................................ C=10, gamma=0.1 -   0.5s\n",
      "[CV] C=10, gamma=0.1 .................................................\n",
      "[CV] ........................................ C=10, gamma=0.1 -   0.5s\n",
      "[CV] C=10, gamma=0.1 .................................................\n",
      "[CV] ........................................ C=10, gamma=0.1 -   0.5s\n",
      "[CV] C=10, gamma=0.1 .................................................\n",
      "[CV] ........................................ C=10, gamma=0.1 -   0.5s\n",
      "[CV] C=10, gamma=0.1 .................................................\n",
      "[CV] ........................................ C=10, gamma=0.1 -   0.5s\n",
      "[CV] C=10, gamma=1 ...................................................\n",
      "[CV] .......................................... C=10, gamma=1 -   0.5s\n",
      "[CV] C=10, gamma=1 ...................................................\n",
      "[CV] .......................................... C=10, gamma=1 -   0.5s\n",
      "[CV] C=10, gamma=1 ...................................................\n",
      "[CV] .......................................... C=10, gamma=1 -   0.5s\n",
      "[CV] C=10, gamma=1 ...................................................\n",
      "[CV] .......................................... C=10, gamma=1 -   0.5s\n",
      "[CV] C=10, gamma=1 ...................................................\n",
      "[CV] .......................................... C=10, gamma=1 -   0.5s\n",
      "[CV] C=10, gamma=10 ..................................................\n",
      "[CV] ......................................... C=10, gamma=10 -   0.5s\n",
      "[CV] C=10, gamma=10 ..................................................\n",
      "[CV] ......................................... C=10, gamma=10 -   0.5s\n",
      "[CV] C=10, gamma=10 ..................................................\n",
      "[CV] ......................................... C=10, gamma=10 -   0.5s\n",
      "[CV] C=10, gamma=10 ..................................................\n",
      "[CV] ......................................... C=10, gamma=10 -   0.5s\n",
      "[CV] C=10, gamma=10 ..................................................\n",
      "[CV] ......................................... C=10, gamma=10 -   0.5s\n",
      "[CV] C=10, gamma=100 .................................................\n",
      "[CV] ........................................ C=10, gamma=100 -   0.5s\n",
      "[CV] C=10, gamma=100 .................................................\n",
      "[CV] ........................................ C=10, gamma=100 -   0.5s\n",
      "[CV] C=10, gamma=100 .................................................\n",
      "[CV] ........................................ C=10, gamma=100 -   0.5s\n",
      "[CV] C=10, gamma=100 .................................................\n",
      "[CV] ........................................ C=10, gamma=100 -   0.5s\n",
      "[CV] C=10, gamma=100 .................................................\n",
      "[CV] ........................................ C=10, gamma=100 -   0.5s\n",
      "[CV] C=100, gamma=0.001 ..............................................\n",
      "[CV] ..................................... C=100, gamma=0.001 -   0.1s\n",
      "[CV] C=100, gamma=0.001 ..............................................\n",
      "[CV] ..................................... C=100, gamma=0.001 -   0.1s\n",
      "[CV] C=100, gamma=0.001 ..............................................\n",
      "[CV] ..................................... C=100, gamma=0.001 -   0.1s\n",
      "[CV] C=100, gamma=0.001 ..............................................\n",
      "[CV] ..................................... C=100, gamma=0.001 -   0.1s\n",
      "[CV] C=100, gamma=0.001 ..............................................\n",
      "[CV] ..................................... C=100, gamma=0.001 -   0.1s\n",
      "[CV] C=100, gamma=0.01 ...............................................\n",
      "[CV] ...................................... C=100, gamma=0.01 -   0.4s\n",
      "[CV] C=100, gamma=0.01 ...............................................\n",
      "[CV] ...................................... C=100, gamma=0.01 -   0.4s\n",
      "[CV] C=100, gamma=0.01 ...............................................\n",
      "[CV] ...................................... C=100, gamma=0.01 -   0.4s\n",
      "[CV] C=100, gamma=0.01 ...............................................\n",
      "[CV] ...................................... C=100, gamma=0.01 -   0.4s\n",
      "[CV] C=100, gamma=0.01 ...............................................\n",
      "[CV] ...................................... C=100, gamma=0.01 -   0.4s\n",
      "[CV] C=100, gamma=0.1 ................................................\n",
      "[CV] ....................................... C=100, gamma=0.1 -   0.5s\n",
      "[CV] C=100, gamma=0.1 ................................................\n",
      "[CV] ....................................... C=100, gamma=0.1 -   0.5s\n",
      "[CV] C=100, gamma=0.1 ................................................\n",
      "[CV] ....................................... C=100, gamma=0.1 -   0.5s\n",
      "[CV] C=100, gamma=0.1 ................................................\n",
      "[CV] ....................................... C=100, gamma=0.1 -   0.5s\n",
      "[CV] C=100, gamma=0.1 ................................................\n",
      "[CV] ....................................... C=100, gamma=0.1 -   0.5s\n",
      "[CV] C=100, gamma=1 ..................................................\n",
      "[CV] ......................................... C=100, gamma=1 -   0.5s\n",
      "[CV] C=100, gamma=1 ..................................................\n",
      "[CV] ......................................... C=100, gamma=1 -   0.5s\n",
      "[CV] C=100, gamma=1 ..................................................\n",
      "[CV] ......................................... C=100, gamma=1 -   0.5s\n",
      "[CV] C=100, gamma=1 ..................................................\n",
      "[CV] ......................................... C=100, gamma=1 -   0.5s\n",
      "[CV] C=100, gamma=1 ..................................................\n",
      "[CV] ......................................... C=100, gamma=1 -   0.5s\n",
      "[CV] C=100, gamma=10 .................................................\n",
      "[CV] ........................................ C=100, gamma=10 -   0.5s\n",
      "[CV] C=100, gamma=10 .................................................\n",
      "[CV] ........................................ C=100, gamma=10 -   0.5s\n",
      "[CV] C=100, gamma=10 .................................................\n",
      "[CV] ........................................ C=100, gamma=10 -   0.5s\n",
      "[CV] C=100, gamma=10 .................................................\n",
      "[CV] ........................................ C=100, gamma=10 -   0.5s\n",
      "[CV] C=100, gamma=10 .................................................\n",
      "[CV] ........................................ C=100, gamma=10 -   0.5s\n",
      "[CV] C=100, gamma=100 ................................................\n",
      "[CV] ....................................... C=100, gamma=100 -   0.5s\n",
      "[CV] C=100, gamma=100 ................................................\n",
      "[CV] ....................................... C=100, gamma=100 -   0.5s\n",
      "[CV] C=100, gamma=100 ................................................\n",
      "[CV] ....................................... C=100, gamma=100 -   0.5s\n",
      "[CV] C=100, gamma=100 ................................................\n",
      "[CV] ....................................... C=100, gamma=100 -   0.5s\n",
      "[CV] C=100, gamma=100 ................................................\n",
      "[CV] ....................................... C=100, gamma=100 -   0.5s\n",
      "CPU times: user 1min 18s, sys: 120 ms, total: 1min 18s\n",
      "Wall time: 1min 18s\n"
     ]
    },
    {
     "name": "stderr",
     "output_type": "stream",
     "text": [
      "[Parallel(n_jobs=1)]: Done 180 out of 180 | elapsed:  1.3min finished\n"
     ]
    }
   ],
   "source": [
    "%time _ = grid_search.fit(X_train, y_train)"
   ]
  },
  {
   "cell_type": "code",
   "execution_count": 22,
   "metadata": {
    "collapsed": false
   },
   "outputs": [
    {
     "data": {
      "text/plain": [
       "0.99111111111111116"
      ]
     },
     "execution_count": 22,
     "metadata": {},
     "output_type": "execute_result"
    }
   ],
   "source": [
    "grid_search.score(X_test, y_test)"
   ]
  },
  {
   "cell_type": "code",
   "execution_count": 23,
   "metadata": {
    "collapsed": false
   },
   "outputs": [
    {
     "data": {
      "text/plain": [
       "({'C': 10, 'gamma': 0.001}, 0.9910913140311804)"
      ]
     },
     "execution_count": 23,
     "metadata": {},
     "output_type": "execute_result"
    }
   ],
   "source": [
    "grid_search.best_params_, grid_search.best_score_"
   ]
  },
  {
   "cell_type": "markdown",
   "metadata": {},
   "source": [
    "### Con grid_search  se puede ver la mejor combinación de parámetros C=10 y gamma=0.001"
   ]
  },
  {
   "cell_type": "code",
   "execution_count": 24,
   "metadata": {
    "collapsed": false
   },
   "outputs": [
    {
     "data": {
      "image/png": "[encoded data removed]",
      "text/plain": [
       "<matplotlib.figure.Figure at 0x7f447741d278>"
      ]
     },
     "metadata": {},
     "output_type": "display_data"
    }
   ],
   "source": [
    "# We extract just the scores\n",
    "scores = [x[1] for x in grid_search.grid_scores_]\n",
    "scores = np.array(scores).reshape(6, 6)\n",
    "\n",
    "plt.matshow(scores)\n",
    "plt.xlabel('gamma')\n",
    "plt.ylabel('C')\n",
    "plt.colorbar()\n",
    "plt.xticks(np.arange(6), param_grid['gamma'])\n",
    "plt.yticks(np.arange(6), param_grid['C']);"
   ]
  },
  {
   "cell_type": "code",
   "execution_count": 25,
   "metadata": {
    "collapsed": false,
    "scrolled": true
   },
   "outputs": [
    {
     "data": {
      "image/png": "[encoded data removed]",
      "text/plain": [
       "<matplotlib.figure.Figure at 0x7f4479a3c630>"
      ]
     },
     "metadata": {},
     "output_type": "display_data"
    }
   ],
   "source": [
    "from plot_svm_interactive import plot_svm_interactive\n",
    "plot_svm_interactive()"
   ]
  },
  {
   "cell_type": "code",
   "execution_count": 26,
   "metadata": {
    "collapsed": false
   },
   "outputs": [
    {
     "name": "stdout",
     "output_type": "stream",
     "text": [
      "Accuracy: 0.966667\n"
     ]
    }
   ],
   "source": [
    "from sklearn.datasets import load_digits\n",
    "from sklearn.model_selection import train_test_split\n",
    "from sklearn.svm import LinearSVC\n",
    "\n",
    "digits = load_digits()\n",
    "X, y = digits.data, digits.target\n",
    "X_train, X_test, y_train, y_test = train_test_split(X, y, random_state=42)\n",
    "\n",
    "classifier = LinearSVC(random_state=0).fit(X_train, y_train)\n",
    "y_test_pred = classifier.predict(X_test)\n",
    "\n",
    "print(\"Accuracy: %f\" % classifier.score(X_test, y_test))"
   ]
  },
  {
   "cell_type": "markdown",
   "metadata": {},
   "source": [
    "## Matriz confusion"
   ]
  },
  {
   "cell_type": "code",
   "execution_count": 27,
   "metadata": {
    "collapsed": false
   },
   "outputs": [
    {
     "data": {
      "text/plain": [
       "array([[42,  0,  0,  0,  1,  0,  0,  0,  0,  0],\n",
       "       [ 0, 36,  0,  0,  0,  0,  0,  0,  0,  1],\n",
       "       [ 0,  0, 38,  0,  0,  0,  0,  0,  0,  0],\n",
       "       [ 0,  0,  0, 44,  0,  1,  0,  0,  1,  0],\n",
       "       [ 0,  0,  0,  0, 55,  0,  0,  0,  0,  0],\n",
       "       [ 0,  0,  1,  0,  0, 56,  1,  0,  0,  1],\n",
       "       [ 0,  0,  0,  0,  0,  1, 44,  0,  0,  0],\n",
       "       [ 0,  0,  0,  0,  0,  0,  0, 40,  0,  1],\n",
       "       [ 0,  2,  0,  0,  0,  1,  0,  0, 35,  0],\n",
       "       [ 0,  0,  0,  0,  0,  0,  0,  0,  3, 45]])"
      ]
     },
     "execution_count": 27,
     "metadata": {},
     "output_type": "execute_result"
    }
   ],
   "source": [
    "from sklearn.metrics import confusion_matrix\n",
    "confusion_matrix(y_test, y_test_pred)"
   ]
  },
  {
   "cell_type": "code",
   "execution_count": 28,
   "metadata": {
    "collapsed": false
   },
   "outputs": [
    {
     "data": {
      "text/plain": [
       "<matplotlib.text.Text at 0x7f44798d44e0>"
      ]
     },
     "execution_count": 28,
     "metadata": {},
     "output_type": "execute_result"
    },
    {
     "data": {
      "image/png": "[encoded data removed]",
      "text/plain": [
       "<matplotlib.figure.Figure at 0x7f44799f6cf8>"
      ]
     },
     "metadata": {},
     "output_type": "display_data"
    }
   ],
   "source": [
    "plt.imshow(confusion_matrix(y_test, y_test_pred), cmap=\"coolwarm\", interpolation=\"None\")\n",
    "plt.colorbar()\n",
    "plt.xlabel(\"Predicted label\")\n",
    "plt.xticks(range(10))\n",
    "plt.yticks(range(10))\n",
    "plt.ylabel(\"True label\")"
   ]
  },
  {
   "cell_type": "markdown",
   "metadata": {},
   "source": [
    "Matriz de confusion binaria:\n",
    "\n",
    "<table>\n",
    "<tr><td>True Positive (TP)</td><td>False Negative (FN) </td></tr>\n",
    "<tr><td>False Positive (FP) </td><td>True Negative (TN) </td></tr>\n",
    "</table>"
   ]
  },
  {
   "cell_type": "markdown",
   "metadata": {},
   "source": [
    "$$ \\text{precision} = \\frac{TP}{FP + TP} $$\n",
    "\n",
    "$$ \\text{recall} = \\frac{TP}{FN + TP} $$\n",
    "\n",
    "$$ \\text{accuracy} = \\frac{TP + TN}{FP + FN + TP + TN} $$\n",
    "\n",
    "$$ f_1 = 2 \\frac{\\text{precision} \\cdot \\text{recall}}{\\text{precision} + \\text{recall}} $$"
   ]
  },
  {
   "cell_type": "code",
   "execution_count": 29,
   "metadata": {
    "collapsed": false
   },
   "outputs": [
    {
     "name": "stdout",
     "output_type": "stream",
     "text": [
      "             precision    recall  f1-score   support\n",
      "\n",
      "          0       1.00      0.98      0.99        43\n",
      "          1       0.95      0.97      0.96        37\n",
      "          2       0.97      1.00      0.99        38\n",
      "          3       1.00      0.96      0.98        46\n",
      "          4       0.98      1.00      0.99        55\n",
      "          5       0.95      0.95      0.95        59\n",
      "          6       0.98      0.98      0.98        45\n",
      "          7       1.00      0.98      0.99        41\n",
      "          8       0.90      0.92      0.91        38\n",
      "          9       0.94      0.94      0.94        48\n",
      "\n",
      "avg / total       0.97      0.97      0.97       450\n",
      "\n"
     ]
    }
   ],
   "source": [
    "from sklearn.metrics import classification_report\n",
    "print(classification_report(y_test, y_test_pred))"
   ]
  }
 ],
 "metadata": {
  "kernelspec": {
   "display_name": "Python 3",
   "language": "python",
   "name": "python3"
  },
  "language_info": {
   "codemirror_mode": {
    "name": "ipython",
    "version": 3
   },
   "file_extension": ".py",
   "mimetype": "text/x-python",
   "name": "python",
   "nbconvert_exporter": "python",
   "pygments_lexer": "ipython3",
   "version": "3.6.0"
  },
  "widgets": {
   "state": {
    "1c0ee55c03874ed2874a56135c5cebc9": {
     "views": [
      {
       "cell_index": 37
      }
     ]
    }
   },
   "version": "1.2.0"
  }
 },
 "nbformat": 4,
 "nbformat_minor": 0
}
