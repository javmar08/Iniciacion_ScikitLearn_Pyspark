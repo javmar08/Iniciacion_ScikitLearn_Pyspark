{
 "cells": [
  {
   "cell_type": "code",
   "execution_count": 1,
   "metadata": {
    "collapsed": true
   },
   "outputs": [],
   "source": [
    "import numpy as np\n",
    "import matplotlib.pyplot as plt\n",
    "import matplotlib.cm as cm\n",
    "from sklearn.neighbors import NearestNeighbors\n",
    "from sklearn import neighbors, datasets"
   ]
  },
  {
   "cell_type": "code",
   "execution_count": 2,
   "metadata": {
    "collapsed": false
   },
   "outputs": [
    {
     "name": "stderr",
     "output_type": "stream",
     "text": [
      "/home/jmoc/anaconda3/lib/python3.6/site-packages/sklearn/utils/validation.py:395: DeprecationWarning: Passing 1d arrays as data is deprecated in 0.17 and will raise ValueError in 0.19. Reshape your data either using X.reshape(-1, 1) if your data has a single feature or X.reshape(1, -1) if it contains a single sample.\n",
      "  DeprecationWarning)\n"
     ]
    },
    {
     "name": "stdout",
     "output_type": "stream",
     "text": [
      "\n",
      "k nearest neighbors\n",
      "1 --> [ 2.  2.]\n",
      "2 --> [ 3.  1.]\n",
      "3 --> [ 3.  3.]\n"
     ]
    },
    {
     "data": {
      "image/png": "[encoded data removed]",
      "text/plain": [
       "<matplotlib.figure.Figure at 0x7fa62b147588>"
      ]
     },
     "metadata": {},
     "output_type": "display_data"
    },
    {
     "data": {
      "image/png": "[encoded data removed]",
      "text/plain": [
       "<matplotlib.figure.Figure at 0x7fa6293ade80>"
      ]
     },
     "metadata": {},
     "output_type": "display_data"
    }
   ],
   "source": [
    "# Puntos de entrada\n",
    "X = np.array([[1, 1], [1, 3], [2, 2], [2.5, 5], [3, 1],[4, 2], [2, 3.5], [3, 3], [3.5, 4]])\n",
    "\n",
    "# Número de vecinos que queremos encontrar\n",
    "num_neighbors = 3\n",
    "\n",
    "# Dato de entrada\n",
    "input_point = [2.6, 1.7]\n",
    "\n",
    "# Pintar los puntos\n",
    "plt.figure()\n",
    "plt.scatter(X[:,0], X[:,1], marker='o', s=25, color='blue')\n",
    "\n",
    "# Construir el modelo de vecinos más cercano\n",
    "knn = NearestNeighbors(n_neighbors=num_neighbors, algorithm='ball_tree').fit(X)\n",
    "distances, indices = knn.kneighbors(input_point)\n",
    "\n",
    "# Imprima los 'k' vecinos más cercanos\n",
    "print('\\nk nearest neighbors')\n",
    "for rank, index in enumerate(indices[0][:num_neighbors]):\n",
    "    print(str(rank+1) + \" -->\", X[index])\n",
    "\n",
    "# Pintar los vecinos más cercanos\n",
    "plt.figure()\n",
    "plt.scatter(X[:,0], X[:,1], marker='o', s=25, color='blue')\n",
    "plt.scatter(X[indices][0][:][:,0], X[indices][0][:][:,1],\n",
    "        marker='o', s=150, color='orange')\n",
    "plt.scatter(input_point[0], input_point[1],\n",
    "        marker='o', s=150, color='black')\n",
    "\n",
    "plt.show()"
   ]
  }
 ],
 "metadata": {
  "kernelspec": {
   "display_name": "Python 3",
   "language": "python",
   "name": "python3"
  },
  "language_info": {
   "codemirror_mode": {
    "name": "ipython",
    "version": 3
   },
   "file_extension": ".py",
   "mimetype": "text/x-python",
   "name": "python",
   "nbconvert_exporter": "python",
   "pygments_lexer": "ipython3",
   "version": "3.6.0"
  }
 },
 "nbformat": 4,
 "nbformat_minor": 2
}
